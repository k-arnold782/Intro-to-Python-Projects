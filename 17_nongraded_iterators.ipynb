{
 "cells": [
  {
   "cell_type": "code",
   "execution_count": 1,
   "metadata": {},
   "outputs": [
    {
     "name": "stdout",
     "output_type": "stream",
     "text": [
      "0 2 4 6 8 \n",
      "0 2 4 6 8 10 12 14 16 18 \n"
     ]
    }
   ],
   "source": [
    "# P1\n",
    "class EvenIterator:\n",
    "    def __init__(self, max_num = 10):\n",
    "        self._max_num = max_num\n",
    "        self._num = 0\n",
    "\n",
    "    def __iter__(self):\n",
    "        return self\n",
    "\n",
    "    def __next__(self):\n",
    "        if self._num < self._max_num:\n",
    "            current_num = self._num\n",
    "            self._num += 2\n",
    "            return current_num\n",
    "        else:\n",
    "            raise StopIteration\n",
    "            \n",
    "# Test codes\n",
    "for even in EvenIterator():\n",
    "    print(even, end = ' ')\n",
    "print()\n",
    "\n",
    "for even in EvenIterator(20):\n",
    "    print(even, end = ' ')\n",
    "print()"
   ]
  },
  {
   "cell_type": "code",
   "execution_count": 2,
   "metadata": {},
   "outputs": [
    {
     "name": "stdout",
     "output_type": "stream",
     "text": [
      "seq1:  [11, 3, 1, 19, 13, 2, 8, 10, 1, 3]\n",
      "seq2:  [26, 22, 24, 3, 6]\n",
      "sum_seq:  37 25 25 22 19 \n"
     ]
    }
   ],
   "source": [
    "# P2\n",
    "class SumIterator:\n",
    "    def __init__(self, seq1, seq2):\n",
    "        self._seq1 = seq1\n",
    "        self._seq2 = seq2\n",
    "        self._index = 0\n",
    "        self._len = min(len(seq1), len(seq2))\n",
    "\n",
    "    def __iter__(self):\n",
    "        return self\n",
    "\n",
    "    def __next__(self):\n",
    "        if self._index < self._len:\n",
    "            sum_value = self._seq1[self._index] + self._seq2[self._index]\n",
    "            self._index += 1\n",
    "            return sum_value\n",
    "        else:\n",
    "            raise StopIteration\n",
    "            \n",
    "            \n",
    "# Test codes\n",
    "import random\n",
    "seq1 = [random.randrange(20) for _ in range(10)]\n",
    "seq2 = [random.randrange(30) for _ in range(5)]\n",
    "print('seq1: ', seq1)\n",
    "print('seq2: ', seq2)\n",
    "print('sum_seq: ', end = ' ')\n",
    "for sum_value in SumIterator(seq1, seq2):\n",
    "    print(sum_value, end = ' ')\n",
    "print()"
   ]
  },
  {
   "cell_type": "code",
   "execution_count": null,
   "metadata": {},
   "outputs": [],
   "source": []
  }
 ],
 "metadata": {
  "kernelspec": {
   "display_name": "Python 3 (ipykernel)",
   "language": "python",
   "name": "python3"
  },
  "language_info": {
   "codemirror_mode": {
    "name": "ipython",
    "version": 3
   },
   "file_extension": ".py",
   "mimetype": "text/x-python",
   "name": "python",
   "nbconvert_exporter": "python",
   "pygments_lexer": "ipython3",
   "version": "3.11.5"
  }
 },
 "nbformat": 4,
 "nbformat_minor": 4
}
