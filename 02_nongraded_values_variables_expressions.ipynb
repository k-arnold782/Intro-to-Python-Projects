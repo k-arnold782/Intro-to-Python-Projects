{
 "cells": [
  {
   "cell_type": "code",
   "execution_count": 1,
   "metadata": {},
   "outputs": [
    {
     "name": "stdout",
     "output_type": "stream",
     "text": [
      "Radius: 2\n",
      "Sphere volume:  33.51\n"
     ]
    }
   ],
   "source": [
    "# P1\n",
    "r = int(input('Radius: '))\n",
    "pi = 3.14159\n",
    "V = 4/3 * pi * (r**3)\n",
    "print('Sphere volume: ', round(V, 2)) # keep two digits after decimal points in the printing"
   ]
  },
  {
   "cell_type": "code",
   "execution_count": 2,
   "metadata": {},
   "outputs": [
    {
     "name": "stdout",
     "output_type": "stream",
     "text": [
      "The number of books (greater than 1): 20\n",
      "The total cost: $1090.8500000000001\n"
     ]
    }
   ],
   "source": [
    "# P2\n",
    "num = int(input('The number of books (greater than 1): '))\n",
    "\n",
    "price = 66.95\n",
    "book_cost = price * num * (1 - 0.2) # cost for all the books\n",
    "shipment_cost = 3.5 + 0.85 * (num - 1) # shipping cost for all the books\n",
    "total_cost = book_cost + shipment_cost # total cost\n",
    "print('The total cost: $', total_cost, sep='')"
   ]
  },
  {
   "cell_type": "code",
   "execution_count": null,
   "metadata": {},
   "outputs": [],
   "source": []
  }
 ],
 "metadata": {
  "kernelspec": {
   "display_name": "Python 3 (ipykernel)",
   "language": "python",
   "name": "python3"
  },
  "language_info": {
   "codemirror_mode": {
    "name": "ipython",
    "version": 3
   },
   "file_extension": ".py",
   "mimetype": "text/x-python",
   "name": "python",
   "nbconvert_exporter": "python",
   "pygments_lexer": "ipython3",
   "version": "3.11.5"
  }
 },
 "nbformat": 4,
 "nbformat_minor": 4
}
