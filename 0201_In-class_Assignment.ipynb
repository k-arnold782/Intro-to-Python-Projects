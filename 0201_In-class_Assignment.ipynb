{
 "cells": [
  {
   "cell_type": "markdown",
   "id": "c54b3e8d",
   "metadata": {},
   "source": [
    "## Problem 1"
   ]
  },
  {
   "cell_type": "markdown",
   "id": "a41471fb",
   "metadata": {},
   "source": [
    "Suppose that a movie starts at the time, 13:35:58, on the afternoon.\n",
    "        Please write a Python program to allow the user to provide the length of the movie during runtime:\n",
    "            the user will provide three non-negative integers for the hour, minute and second,\n",
    "            respectively (assume that the movie length is less than 5 hours).\n",
    "            Please calculate and print the end time of the movie in the format of hour:minute:second.\n",
    "            Note that in the output, the hour, minute, and second should be less than 24, 60, and 60, respectively.\n",
    "            \n",
    "            For example,\n",
    "\n",
    "If the user provides 1, 21, and 35 for hour, minute and second respectively, your program should print 14:57:33.\n",
    "If the user provides 0, 122, and 8 for hour, minute and second respectively, your program should print 15:38:6.\n",
    "If the user provides 2, 0, and 200 for hour, minute and second respectively, your program should print 15:39:18."
   ]
  },
  {
   "cell_type": "code",
   "execution_count": 6,
   "id": "e5830221",
   "metadata": {},
   "outputs": [
    {
     "name": "stdout",
     "output_type": "stream",
     "text": [
      "Provide three non-negative integers for the hour, minute, and second for the length of the movie.\n",
      "Please enter the number of hours: 2\n",
      "Please provide the number of minutes: 0\n",
      "Please provide the number of seconds: 200\n",
      "The movie will end at 15:39:18.\n"
     ]
    }
   ],
   "source": [
    "print('Provide three non-negative integers for the hour, minute, and second for the length of the movie.')\n",
    "\n",
    "##Get the number of hours \n",
    "hour = int(input('Please enter the number of hours: '))\n",
    "while hour < 0:\n",
    "    hour = int(input('Error: negative integer. Please enter the number of hours (greater than or equal to 0): '))\n",
    "\n",
    "minute = int(input('Please provide the number of minutes: '))\n",
    "while minute < 0:\n",
    "    minute = int(input('Error: negative integer. Please enter the number of minutes (greater than or equal to 0): '))\n",
    "\n",
    "second = int(input('Please provide the number of seconds: '))\n",
    "while second < 0:\n",
    "    second = int(input('Error: negative integer. Please enter the number of seconds (greater than or equal to 0): '))\n",
    "\n",
    "## Add the input to the movie start time\n",
    "hour = 13+hour\n",
    "minute = 35+minute\n",
    "second = 58+second\n",
    "\n",
    "## Correct the numbers of hours/minutes/seconds to account for >=60minutes or >=60seconds\n",
    "while second >= 60:\n",
    "    second -= 60\n",
    "    minute += 1\n",
    "while minute >= 60:\n",
    "    minute -= 60\n",
    "    hour += 1\n",
    "## Since we assume the movie is <5hours long, we do not need to adjust for hours to also give us the day.\n",
    "\n",
    "\n",
    "print('The movie will end at ',hour,':',minute,':',second,'.',sep='')"
   ]
  },
  {
   "cell_type": "markdown",
   "id": "81766767",
   "metadata": {},
   "source": [
    "## Problem 2"
   ]
  },
  {
   "cell_type": "markdown",
   "id": "27c454db",
   "metadata": {},
   "source": [
    "2 (50%). Please write a Python program to print patterns as follows, where the numbers of rows and columns are provided by the user during runtime (assume at least 1 row and 1 column). The following shows only some example patterns, but your program should allow the user to provide arbitrary numbers of rows and columns."
   ]
  },
  {
   "cell_type": "code",
   "execution_count": 28,
   "id": "05b4d011",
   "metadata": {},
   "outputs": [
    {
     "name": "stdout",
     "output_type": "stream",
     "text": [
      "Please enter the number of rows (at least 1): 6\n",
      "Please enter the number of columns (at least 1): 6\n",
      "+ - - - - +\n",
      "|         |\n",
      "|         |\n",
      "|         |\n",
      "|         |\n",
      "+ - - - - +\n"
     ]
    }
   ],
   "source": [
    "row = int(input('Please enter the number of rows (at least 1): '))\n",
    "col = int(input('Please enter the number of columns (at least 1): '))\n",
    "\n",
    "## Set starting row number:\n",
    "rownum = 1\n",
    "\n",
    "## If it's the first or last row, print the '+----+' pattern. Otherwise print '|' for the first and last column.\n",
    "while rownum <= row:\n",
    "    if rownum == 1 or rownum == row:\n",
    "        if col <= 2:\n",
    "            print('+ '*col)\n",
    "        else:\n",
    "            print('+ ','- '*(col-2),'+',sep='')\n",
    "    elif col <= 2:\n",
    "        print('| '*col)\n",
    "    else:\n",
    "        print('| ','  '*(col-2),'|',sep='')\n",
    "    rownum += 1\n"
   ]
  },
  {
   "cell_type": "code",
   "execution_count": null,
   "id": "eb0d048b",
   "metadata": {},
   "outputs": [],
   "source": []
  }
 ],
 "metadata": {
  "kernelspec": {
   "display_name": "Python 3 (ipykernel)",
   "language": "python",
   "name": "python3"
  },
  "language_info": {
   "codemirror_mode": {
    "name": "ipython",
    "version": 3
   },
   "file_extension": ".py",
   "mimetype": "text/x-python",
   "name": "python",
   "nbconvert_exporter": "python",
   "pygments_lexer": "ipython3",
   "version": "3.11.5"
  }
 },
 "nbformat": 4,
 "nbformat_minor": 5
}
