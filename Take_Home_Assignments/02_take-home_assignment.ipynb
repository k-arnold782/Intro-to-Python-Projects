{
 "cells": [
  {
   "cell_type": "markdown",
   "id": "fd75118b",
   "metadata": {},
   "source": [
    "# Take Home Assignment 2\n",
    "### Kirsten Arnold"
   ]
  },
  {
   "cell_type": "markdown",
   "id": "5182c0cf",
   "metadata": {},
   "source": [
    "### Problem 1"
   ]
  },
  {
   "cell_type": "code",
   "execution_count": 201,
   "id": "3a41803b",
   "metadata": {},
   "outputs": [
    {
     "name": "stdout",
     "output_type": "stream",
     "text": [
      "('a', 0)\n",
      "('a*b', 1)\n",
      "('dfsab', 2)\n",
      "('Aab', 1)\n",
      "('986271', 6)\n"
     ]
    }
   ],
   "source": [
    "# Please write a function that takes a non-empty string, e.g., my_str, as the input parameter.\n",
    "# The function needs to find a substring, sub_str, in the my_str such that \n",
    "# (1) sub_str does not have repeating characters and \n",
    "# (2) the length of sub_str is maximum. \n",
    "# The function needs to return sub_str and its index \n",
    "# (i.e., the index of the first character of sub_str in the original string). \n",
    "# If sub_str is not unique, the function returns the first sub_str \n",
    "# (i.e., the substring of which the first character has lowest index) and its index.\n",
    "\n",
    "#if len(set) == len(str) then there are no unique characters\n",
    "#make a dictionary of key(str) and len of string(value)\n",
    "\n",
    "def longest_unique_substring(my_str):\n",
    "    '''\n",
    "    Prints the longest substring with unique characters and index of the first character in that substring.\n",
    "    '''\n",
    "    stored_str = ''\n",
    "    for start in range(0,len(my_str)):                  # starting index starts at 0\n",
    "        for end in range(start+1,len(my_str)+1):        # for each starting index, test each string length until end of string\n",
    "            sub_str = my_str[start:end]                 # take a slice of the string from starting index to ending index\n",
    "            if len(set(sub_str)) == len(sub_str):       # If there are no repeat elements, \n",
    "                if len(sub_str) > len(stored_str):      # and length of current string is greater than previous max\n",
    "                    stored_str, index = sub_str, start  # store substring and starting index\n",
    "    print((stored_str, index))\n",
    "    \n",
    "                \n",
    "longest_unique_substring('aaa')\n",
    "longest_unique_substring('aa*b')\n",
    "longest_unique_substring('asdfsab')\n",
    "longest_unique_substring('aAab')\n",
    "longest_unique_substring('0132329862719')"
   ]
  },
  {
   "cell_type": "markdown",
   "id": "258b7b2b",
   "metadata": {},
   "source": [
    "### Problem 2"
   ]
  },
  {
   "cell_type": "code",
   "execution_count": 195,
   "id": "eea6832a",
   "metadata": {},
   "outputs": [
    {
     "name": "stdout",
     "output_type": "stream",
     "text": [
      "Distance from robot to position: 1\n",
      "1\n",
      "Distance from robot to position: 2\n",
      "2\n",
      "Distance from robot to position: 3\n",
      "3\n",
      "Distance from robot to position: 4\n",
      "5\n",
      "Distance from robot to position: 5\n",
      "8\n",
      "Distance from robot to position: 6\n",
      "13\n"
     ]
    }
   ],
   "source": [
    "## Suppose a robot moves from the origin to a position that has a distance, x units (a positive integer), \n",
    "# from the origin. Each time the robot can move only 1 or 2 units. \n",
    "# Please write a function to return in how many different ways the robot can move to the position. \n",
    "# The distance, x, is provided during runtime.\n",
    "# For instance:\n",
    "# If x = 2, then your function should return 2, because there are 2 different ways: (1) 1 + 1 and (2) 2\n",
    "# If x = 4, then your function should return 5, because there are 5 different ways: \n",
    "#    (1) 1 + 1 + 1 + 1, (2) 1 + 1 + 2, (3) 1 + 2+ 1, (4) 2 + 1 + 1, and (5) 2 + 2\n",
    "\n",
    "import math\n",
    "\n",
    "def robot():\n",
    "    '''\n",
    "    Tells you how many different combinations of ways a robot can move to the provided distance.\n",
    "    The robot can only move 1 or 2 units at a time.\n",
    "    The distance is provided by the user during runtime.\n",
    "    '''\n",
    "    x = int(input('Distance from robot to position: '))\n",
    "    digits = x                                      #all digits are 1s to start\n",
    "    count = 1                                       #start with a combination of one (all 1s)\n",
    "    num_of_2s = 0\n",
    "    while x - num_of_2s > 1:                   #While you have 'room' to put replace two 1s with a 2\n",
    "        digits -= 1\n",
    "        num_of_2s += 1\n",
    "        combinations = math.comb(digits,num_of_2s)  #gives you the number of combinations the 2s can fit into\n",
    "        count += combinations                       #add all different combinations to the current count\n",
    "    return count\n",
    "\n",
    "print(robot())\n",
    "print(robot())\n",
    "print(robot())\n",
    "print(robot())\n",
    "print(robot())\n",
    "print(robot())"
   ]
  },
  {
   "cell_type": "markdown",
   "id": "188774d0",
   "metadata": {},
   "source": [
    "### Problem 3"
   ]
  },
  {
   "cell_type": "code",
   "execution_count": 191,
   "id": "6f5370e8",
   "metadata": {},
   "outputs": [
    {
     "name": "stdout",
     "output_type": "stream",
     "text": [
      "my_str = 'xyzzya'; Identical adjacents removed = xa\n",
      "my_str = 'xyx'; Identical adjacents removed = xyx\n",
      "my_str = 'xxx'; Identical adjacents removed = x\n",
      "my_str = 'xXx'; Identical adjacents removed = x\n",
      "my_str = 'xxxYyxZ'; Identical adjacents removed = z\n"
     ]
    }
   ],
   "source": [
    "def remove_adjacents(my_str):\n",
    "    '''\n",
    "    Repeatedly removes all adjacent identical letters (ignoring case) until no adjacent identical letters remain.\n",
    "    '''\n",
    "    \n",
    "    #Nested Function\n",
    "    def any_adjacents(my_str):          \n",
    "        '''\n",
    "        Checks to see if there are any adjacent identical letters in the string.\n",
    "        '''\n",
    "        for item in range (0,len(my_str)-1):\n",
    "            if my_str[item] == my_str[item+1]:\n",
    "                return True\n",
    "        return False\n",
    "    \n",
    "    my_str = my_str.lower()    #Convert all letters to lowercase\n",
    "    if len(my_str) <= 1:\n",
    "        return my_str          #If the length of the string is 0 or 1, there are no adjacents to remove\n",
    "    \n",
    "    index = 1\n",
    "    while index < len(my_str):                #Starting at the second element, check to see if the element\n",
    "        if my_str[index] == my_str[index-1]:  #Before the current element is identical. If it is,\n",
    "            my_lst = list(my_str)             #Convert the string into a list and\n",
    "            del my_lst[index-1:index+1]       #Remove the identical elements from the list.\n",
    "            my_str = ''.join(my_lst)          #Convert the list back into a string.\n",
    "            index += 1                        #Update the index count whether there are identical letters\n",
    "        else: index += 1                      #or not.\n",
    "            \n",
    "                                              #After index reaches len(my_str), \n",
    "    if any_adjacents(my_str):                 #check again to see if there are identical adjacents.\n",
    "        return remove_adjacents(my_str)       #If there are, repeat this whole process again.\n",
    "    else: return my_str                       #When there are no longer any identical adjacents, return the string.\n",
    "        \n",
    "print(\"my_str = 'xyzzya';\",'Identical adjacents removed =',remove_adjacents('xyzzya'))\n",
    "print(\"my_str = 'xyx';\",'Identical adjacents removed =',remove_adjacents('xyx'))\n",
    "print(\"my_str = 'xxx';\",'Identical adjacents removed =',remove_adjacents('xxx'))\n",
    "print(\"my_str = 'xXx';\",'Identical adjacents removed =',remove_adjacents('xXx'))\n",
    "print(\"my_str = 'xxxYyxZ';\",'Identical adjacents removed =',remove_adjacents('xxxYyxZ'))"
   ]
  }
 ],
 "metadata": {
  "kernelspec": {
   "display_name": "Python 3 (ipykernel)",
   "language": "python",
   "name": "python3"
  },
  "language_info": {
   "codemirror_mode": {
    "name": "ipython",
    "version": 3
   },
   "file_extension": ".py",
   "mimetype": "text/x-python",
   "name": "python",
   "nbconvert_exporter": "python",
   "pygments_lexer": "ipython3",
   "version": "3.11.5"
  }
 },
 "nbformat": 4,
 "nbformat_minor": 5
}
