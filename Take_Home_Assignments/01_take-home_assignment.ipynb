{
 "cells": [
  {
   "cell_type": "markdown",
   "id": "fd36709b",
   "metadata": {},
   "source": [
    "# Take-home assignment 01\n",
    "### Author: Kirsten Arnold\n",
    "\n",
    "### Problem 1 - Alphabet Pyramid"
   ]
  },
  {
   "cell_type": "code",
   "execution_count": 129,
   "id": "07326ad0",
   "metadata": {},
   "outputs": [
    {
     "name": "stdout",
     "output_type": "stream",
     "text": [
      "Please input the number of levels for the alphabet pyramid: 6\n",
      "          A \n",
      "        A B A \n",
      "      A B C B A \n",
      "    A B C D C B A \n",
      "  A B C D E D C B A \n",
      "A B C D E F E D C B A \n"
     ]
    }
   ],
   "source": [
    "row = int(input('Please input the number of levels for the alphabet pyramid: '))\n",
    "alphabet = 'ABCDEFGHIJKLMNOPQRSTUVWXYZ'\n",
    "\n",
    "for n in range(1,row+1):\n",
    "    for space in range(row-n):            ## print the correct number of spaces\n",
    "        print(end='  ')\n",
    "    for i in range(0,n):                  ## start with A and go up one letter for each row\n",
    "        print(alphabet[i],end=' ')\n",
    "    for i in range(n-2,-1,-1):            ## go back down to A\n",
    "        print(alphabet[i],end=' ')\n",
    "    print()                               ## start a new line"
   ]
  },
  {
   "cell_type": "markdown",
   "id": "fdd55e6e",
   "metadata": {},
   "source": [
    "### Problem 2 - Print all palindromic primes up to a given number"
   ]
  },
  {
   "cell_type": "code",
   "execution_count": 130,
   "id": "f0455e74",
   "metadata": {},
   "outputs": [
    {
     "name": "stdout",
     "output_type": "stream",
     "text": [
      "Print all palindromic primes up to what number: 2000\n",
      "1 2 3 5 7 11 101 131 151 181 191 313 353 373 383 727 757 787 797 919 929 "
     ]
    }
   ],
   "source": [
    "from math import sqrt\n",
    "\n",
    "def all_palindromic_primes():\n",
    "    '''\n",
    "    Print all numbers up to the number provided by user during runtime that are both prime numbers and palindromes.\n",
    "    '''\n",
    "    def is_prime(x):\n",
    "        '''\n",
    "        Checks to see if a number is a prime number.\n",
    "        A prime number is not divisible by any number other than itself and 1.\n",
    "        '''\n",
    "        root = round(sqrt(x)+1)\n",
    "        for n in range(2,root):\n",
    "            if x%n == 0:\n",
    "                return False\n",
    "        return True\n",
    "    def is_palindrome(x):\n",
    "        '''\n",
    "        Check to see if the number provided is a palindrome.\n",
    "        A palindrome is a number that is the same forwards and backwards.\n",
    "        '''\n",
    "        if x < 0:\n",
    "            return False\n",
    "        if x < 10:\n",
    "            return True ##All one-digit numbers are palindromes.\n",
    "        if x % 10 == 0:\n",
    "            return False ##No numbers ending with a 0 digit are palindromes.\n",
    "        original = x\n",
    "        reverse = 0\n",
    "        while x > 0:\n",
    "            reverse = (reverse*10)+(x%10)  ##Updates the current reverse number to add the first digit of x to the one's place.\n",
    "            x = x//10                      ##Drops off the last digit of x. Keeps running until you run out of digits.\n",
    "        return original == reverse\n",
    "    x = int(input(\"Print all palindromic primes up to what number: \"))\n",
    "    for i in range (1,x+1):\n",
    "        if is_prime(i) and is_palindrome(i):\n",
    "            print(i,end=' ')\n",
    "\n",
    "all_palindromic_primes()"
   ]
  },
  {
   "cell_type": "markdown",
   "id": "c47ee180",
   "metadata": {},
   "source": [
    "### Problem 3 - All numbers between a given range that is divisible by their digits"
   ]
  },
  {
   "cell_type": "code",
   "execution_count": 108,
   "id": "ea5dc455",
   "metadata": {},
   "outputs": [
    {
     "name": "stdout",
     "output_type": "stream",
     "text": [
      "33 36 44 48 \n",
      "33 36 44 48 \n"
     ]
    }
   ],
   "source": [
    "def divisible_digits(p1,p2):\n",
    "    '''\n",
    "    Prints all integers between two given values that are divisible by all digits in that integer.\n",
    "    '''\n",
    "    if p1 > p2:\n",
    "        p1,p2 = p2,p1         ## Change order so that p1 is the lower number.\n",
    "    if p1 <= 0 or p2 <=0:\n",
    "        print('All parameters must be positive integers.')\n",
    "    for p in range(p1,p2+1):\n",
    "        original = p\n",
    "        digit = p\n",
    "        while p >= 10:\n",
    "            digit = p%10                 ## Extract one's place digit if p >= 10.\n",
    "            if digit == 0:               ## If at any point we come across a 0 digit, break the loop.\n",
    "                break\n",
    "            if original%digit != 0:      ## If at any point the original number isn't divisible by the\n",
    "                break                    ## extracted digit, it breaks the loop.\n",
    "            p //= 10                     ## Drop off the one's place digit and perform the loop again.\n",
    "        \n",
    "        if digit != 0:                                ## Can only print the number if last extracted digit isn't 0.\n",
    "            if original%digit ==0 and original%p==0:  ## Test to see if the original value is divisible\n",
    "                print(original,end=' ')               ## by both the last extracted digit and the first digit.\n",
    "    print()\n",
    "\n",
    "divisible_digits(30,50)\n",
    "divisible_digits(50,30)"
   ]
  }
 ],
 "metadata": {
  "kernelspec": {
   "display_name": "Python 3 (ipykernel)",
   "language": "python",
   "name": "python3"
  },
  "language_info": {
   "codemirror_mode": {
    "name": "ipython",
    "version": 3
   },
   "file_extension": ".py",
   "mimetype": "text/x-python",
   "name": "python",
   "nbconvert_exporter": "python",
   "pygments_lexer": "ipython3",
   "version": "3.11.5"
  }
 },
 "nbformat": 4,
 "nbformat_minor": 5
}
