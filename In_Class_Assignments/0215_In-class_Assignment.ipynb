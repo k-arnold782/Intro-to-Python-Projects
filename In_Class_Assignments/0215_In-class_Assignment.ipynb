{
 "cells": [
  {
   "cell_type": "markdown",
   "id": "4e4c675b",
   "metadata": {},
   "source": [
    "# In-class Assignment 2/15/24\n",
    "\n",
    "### Problem 1"
   ]
  },
  {
   "cell_type": "code",
   "execution_count": 11,
   "id": "63742122",
   "metadata": {},
   "outputs": [
    {
     "name": "stdout",
     "output_type": "stream",
     "text": [
      "Please input a positive number (input 0 to exit the program): 0\n"
     ]
    },
    {
     "data": {
      "text/plain": [
       "'None'"
      ]
     },
     "execution_count": 11,
     "metadata": {},
     "output_type": "execute_result"
    }
   ],
   "source": [
    "def ave_max():\n",
    "    '''\n",
    "    Keeps track of average and maximum of all floating point numbers that the user inputs\n",
    "    (one at a time), until the user inputs '0'.\n",
    "    All negative numbers are ignored and not used in the computation.\n",
    "    If no positive numbers are given, the function will return \"None.\"\n",
    "    '''\n",
    "    x = float(input('Please input a positive number (input 0 to exit the program): '))\n",
    "    total = 0\n",
    "    m = 0\n",
    "    ave = 0\n",
    "    count = 0\n",
    "    while x != 0:\n",
    "        if x > 0:\n",
    "            total += x\n",
    "            count += 1\n",
    "            ave = total/count\n",
    "            m = max(x,m)\n",
    "            x = float(input('Please input a positive number (input 0 to exit the program): '))\n",
    "        else:\n",
    "            x = float(input('Please input a positive number (input 0 to exit the program): '))\n",
    "    if m == 0:\n",
    "        return 'None'\n",
    "    print('Average =',ave,'\\nMaximum =',m)\n",
    "\n",
    "ave_max()"
   ]
  },
  {
   "cell_type": "markdown",
   "id": "42461d62",
   "metadata": {},
   "source": [
    "### Problem 2"
   ]
  },
  {
   "cell_type": "code",
   "execution_count": 25,
   "id": "7a25807b",
   "metadata": {},
   "outputs": [
    {
     "name": "stdout",
     "output_type": "stream",
     "text": [
      "Level = 1\n",
      "*\n",
      "Level = 2\n",
      " *\n",
      "*@\n",
      " *\n",
      "Level = 5\n",
      "    *\n",
      "   *@\n",
      "  *@*\n",
      " *@*@\n",
      "*@*@*\n",
      " *@*@\n",
      "  *@*\n",
      "   *@\n",
      "    *\n",
      "Level = 7\n",
      "      *\n",
      "     *@\n",
      "    *@*\n",
      "   *@*@\n",
      "  *@*@*\n",
      " *@*@*@\n",
      "*@*@*@*\n",
      " *@*@*@\n",
      "  *@*@*\n",
      "   *@*@\n",
      "    *@*\n",
      "     *@\n",
      "      *\n"
     ]
    }
   ],
   "source": [
    "def leftside_tree(level=5):\n",
    "    '''\n",
    "    Draws a left-sided tree using alternating * and @ symbols. Default is 5 levels.\n",
    "    '''\n",
    "    print('Level =',level)\n",
    "    for n in range(1,level+1):\n",
    "        print(' '*(level-n),end='')     ## Print correct number of spaces before symbols\n",
    "        print('*@'*(n//2),end='')       ## Print *@ times the floor of row number/2 (it will print nothing if n=1)\n",
    "        if n%2 == 1:                    ## Prints an extra * if row number is odd\n",
    "            print('*',end='')\n",
    "        print()                         ## Starts new line\n",
    "    for n in range((level-1),0,-1):     ## Goes back down to finish other side of pyramid\n",
    "        print(' '*(level-n),end='')     ## Everything else is the same as previous for loop\n",
    "        print('*@'*(n//2),end='')\n",
    "        if n%2 == 1:\n",
    "            print('*',end='')\n",
    "        print()\n",
    "        \n",
    "\n",
    "leftside_tree(1)\n",
    "leftside_tree(2)\n",
    "leftside_tree()\n",
    "leftside_tree(7)"
   ]
  }
 ],
 "metadata": {
  "kernelspec": {
   "display_name": "Python 3 (ipykernel)",
   "language": "python",
   "name": "python3"
  },
  "language_info": {
   "codemirror_mode": {
    "name": "ipython",
    "version": 3
   },
   "file_extension": ".py",
   "mimetype": "text/x-python",
   "name": "python",
   "nbconvert_exporter": "python",
   "pygments_lexer": "ipython3",
   "version": "3.11.5"
  }
 },
 "nbformat": 4,
 "nbformat_minor": 5
}
