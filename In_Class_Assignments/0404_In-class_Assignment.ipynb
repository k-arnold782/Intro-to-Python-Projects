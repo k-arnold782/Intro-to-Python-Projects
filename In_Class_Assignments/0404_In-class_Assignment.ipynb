{
 "cells": [
  {
   "cell_type": "markdown",
   "id": "b1ba7caa",
   "metadata": {},
   "source": [
    "# In-Class Assignment 04.04.24\n",
    "## Kirsten Arnold"
   ]
  },
  {
   "cell_type": "markdown",
   "id": "05c59eb4",
   "metadata": {},
   "source": [
    "### Problem 1"
   ]
  },
  {
   "cell_type": "code",
   "execution_count": 8,
   "id": "9f347cf5",
   "metadata": {},
   "outputs": [
    {
     "name": "stdout",
     "output_type": "stream",
     "text": [
      "[1, 2, 3]\n"
     ]
    }
   ],
   "source": [
    "#Please wrap the following Python code in a try statement to defend against \n",
    "#at least three different types of exceptions that may occur. \n",
    "\n",
    "#You should write the following code in your try block without modifying the code \n",
    "#or adding any other codes in the try block. \n",
    "\n",
    "#Your program should contain only one try statement, \n",
    "#and you should not manually produce an exception by using the raise statement.\n",
    "\n",
    "#Please always print the list, lst, at the end of the try statement (before it completes), \n",
    "#no matter whether an exception occurs.\n",
    "\n",
    "#In addition to the source code, please submit all the input files you create (if any) \n",
    "#and the screenshots of the outputs of handling different types of exceptions \n",
    "#as well as the output of no exceptions. \n",
    "#Please note the difference between a try statement and a try block.\n",
    "\n",
    "with open('test_data.txt','w') as f:\n",
    "    f.write('1\\n')\n",
    "    f.write('2\\n')\n",
    "    f.write('3\\n')\n",
    "\n",
    "\n",
    "try:\n",
    "    lst = [0, 0, 0]\n",
    "    with open('test_data.txt','r') as file:\n",
    "        count = 0\n",
    "        for line in file.readlines():\n",
    "            lst[count] = int(line)\n",
    "            count += 1\n",
    "except FileNotFoundError:\n",
    "    print('File not found. Make sure file is in current working directory.')\n",
    "except IndexError:\n",
    "    print('Count exceeds number of indices in the list.')\n",
    "except ValueError:\n",
    "    print('Read line cannot be converted into an integer.')\n",
    "finally: print(lst)"
   ]
  },
  {
   "cell_type": "markdown",
   "id": "4a5089c0",
   "metadata": {},
   "source": [
    "### Problem 2"
   ]
  },
  {
   "cell_type": "code",
   "execution_count": 35,
   "id": "f9080998",
   "metadata": {},
   "outputs": [
    {
     "name": "stdout",
     "output_type": "stream",
     "text": [
      "Initial rectangle (0,0), width=4, height=7 \n",
      "\n",
      "(2, 1) in rectangle?\n",
      "True\n",
      "(4, 7.45) in rectangle?\n",
      "False\n",
      "Overlapping area for rectangle (2.3,1), width = 5, height = 2:\n",
      "3.4000000000000004\n",
      "Overlapping area for rectangle (5.3, 2), width = 3, height = 3:\n",
      "0\n"
     ]
    }
   ],
   "source": [
    "#Please write a Python program to define a class named Rectangle, \n",
    "#which can be used to create Rectangle objects. \n",
    "#Each rectangle is defined by a bottom-left corner, a width and a height. \n",
    "#Assume the coordinate system is defined such that the \n",
    "#positive horizontal (i.e., x) and vertical (i.e., y) axes point right and up, respectively. \n",
    "#The Rectangle class needs to contain the following methods:\n",
    "\n",
    "#An __init__ method with 4 parameters, \n",
    "    #one for a Rectangle object, \n",
    "    #one for the bottom-left corner (you can use a two-element tuple to represent a corner) \n",
    "    #and the other two for the width and height. \n",
    "    #The width and height should be non-negative floating-point numbers. \n",
    "    #Please define and initialize proper instance variables or attributes in the method.\n",
    "#An is_inside method with a Rectangle object and a point \n",
    "    #(you can use a two-element tuple to represent a point) as parameters. \n",
    "    #It returns True if the point is in the rectangle or on the rectangle edges, otherwise False.\n",
    "#A get_overlap_area method with two Rectangle objects as parameters. \n",
    "    #It computes and returns the overlapped area of the two rectangles. \n",
    "    #The method returns 0 if the two rectangles do not overlap with each other. \n",
    "    #The area of a rectangle can be achieved by multiplying its width by its height.\n",
    "    \n",
    "class Rectangle:\n",
    "    \n",
    "    def __init__(self, corner = (0,0), width = 1, height = 1): #Including default values\n",
    "        '''\n",
    "        Initialize bottom-left corner, width, and height dimensions.\n",
    "        '''\n",
    "        self.c = corner\n",
    "        self.w = width\n",
    "        self.h = height\n",
    "    \n",
    "    def is_inside(self,point):\n",
    "        '''\n",
    "        Checks to see if a point is inside or touching the borders of the rectangle.\n",
    "        '''\n",
    "        self.point = point\n",
    "        self.inside = False\n",
    "        if point[0] <= (self.c[0] + self.w) and point[0] >= self.c[0]: #If point is within 'x' range\n",
    "            if point[1] <= (self.c[1] + self.h) and point[1] >= self.c[1]: #If point is within 'y' range\n",
    "                self.inside = True\n",
    "        return self.inside\n",
    "    \n",
    "    def get_overlap_area(self, corner2 = (0,0), width2 = 1, height2 = 1):\n",
    "        '''\n",
    "        Obtains the area of the overlap between the original rectangle and the new rectangle.\n",
    "        '''\n",
    "        bl1 = self.c                                             #bottom-left corner of the original rect\n",
    "        tr1 = (self.c[0]+self.w, self.c[1]+self.h)               #top-right corner of the original rect\n",
    "        bl2 = corner2                                            #bottom-left corner of the new rect\n",
    "        tr2 = (corner2[0]+width2, corner2[1]+height2)            #top-right corner of the new rect\n",
    "        \n",
    "        #x coordinates of minimum of top-right corners minus max bottom-left corners gives width\n",
    "        width_overlap = min(tr1[0],tr2[0]) - max(bl1[0],bl2[0])  \n",
    "        #y coordinates of minimum of top-right corners minus max bottom-left corners gives height\n",
    "        height_overlap = min(tr1[1],tr2[1]) - max(bl1[1],bl2[1])\n",
    "        \n",
    "        if width_overlap <= 0 or height_overlap <= 0:    #If either the width or height of overlap is <=0\n",
    "            return 0                                     #Rectangles do not overlap\n",
    "        return width_overlap * height_overlap            #Area of the overlapping rectangle = w x h\n",
    "        \n",
    "rect = Rectangle((0,0),4,7)\n",
    "print('Initial rectangle (0,0), width=4, height=7','\\n')\n",
    "print('(2, 1) in rectangle?',rect.is_inside((2,1)), sep = '\\n')\n",
    "print('(4, 7.45) in rectangle?', rect.is_inside((4, 7.45)), sep='\\n')\n",
    "print('Overlapping area for rectangle (2.3,1), width = 5, height = 2:', rect.get_overlap_area((2.3,1),5,2), sep='\\n')\n",
    "print('Overlapping area for rectangle (5.3, 2), width = 3, height = 3:', rect.get_overlap_area((5.3,2),3,3), sep = '\\n')"
   ]
  }
 ],
 "metadata": {
  "kernelspec": {
   "display_name": "Python 3 (ipykernel)",
   "language": "python",
   "name": "python3"
  },
  "language_info": {
   "codemirror_mode": {
    "name": "ipython",
    "version": 3
   },
   "file_extension": ".py",
   "mimetype": "text/x-python",
   "name": "python",
   "nbconvert_exporter": "python",
   "pygments_lexer": "ipython3",
   "version": "3.11.5"
  }
 },
 "nbformat": 4,
 "nbformat_minor": 5
}
