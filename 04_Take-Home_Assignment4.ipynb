{
 "cells": [
  {
   "cell_type": "markdown",
   "id": "24ff5ace",
   "metadata": {},
   "source": [
    "# Take-Home Assignment 4\n",
    "## Kirsten Arnold\n",
    "\n",
    "### Problem 1"
   ]
  },
  {
   "cell_type": "code",
   "execution_count": 1,
   "id": "3604022d",
   "metadata": {},
   "outputs": [
    {
     "name": "stdout",
     "output_type": "stream",
     "text": [
      "Name    H-index \n",
      "John     5\n",
      "Mia      6\n",
      "David    3\n",
      "Jim      2\n",
      "Zoe      4\n",
      "Anna     9\n",
      "Jan      8\n"
     ]
    }
   ],
   "source": [
    "#Problem 1\n",
    "#The h-index for a research scientist is defined as the maximum value of h such that \n",
    "#he/she has published h papers that have each been cited at least h times. \n",
    "#For example, if a scientist has published 5 papers with citations [2,0,3,8,6], \n",
    "#then his/her h-index is 3. \n",
    "#Please write a program to calculate the h-index of each scientist defined in a file, \n",
    "#citations.csv, which contains the citation of each paper published by every scientist. \n",
    "#Please download the file onto your computer and do not modify the content of the file. \n",
    "#Your program needs to read data from the file, \n",
    "#and calculate and print the h-index for each scientist on the screen.\n",
    "\n",
    "\n",
    "print(\"{0:8}{1:8}\".format('Name','H-index'))\n",
    "with open('citations.csv','r') as f:\n",
    "    lines = f.readlines()[1:]                    #don't include column headers\n",
    "    for row in lines:\n",
    "        values = row.strip().split(',')          #separate csv entries by comma\n",
    "        name = values[0]\n",
    "        lst = values[1:]\n",
    "        for index in range(len(lst)):            #replace all empty strings in list with zeros\n",
    "            if lst[index] == '':\n",
    "                lst[index] = '0'\n",
    "        citations = [int(x) for x in lst]        #then convert all numbers in list to integers\n",
    "        count = 0                                #reset count for each line\n",
    "        \n",
    "        #while the number of papers that have at least \"count\" number of citations is >= to the current count\n",
    "        while sum(i >= count for i in citations) >= count:   \n",
    "            h = count                                      #update the h-index number to the current count\n",
    "            count += 1                                     #and count increases by 1\n",
    "        print(\"{0:8} {1}\".format(name,h))"
   ]
  },
  {
   "cell_type": "markdown",
   "id": "ab1ebad3",
   "metadata": {},
   "source": [
    "### Problem 2"
   ]
  },
  {
   "cell_type": "code",
   "execution_count": 2,
   "id": "39997ff4",
   "metadata": {},
   "outputs": [
    {
     "name": "stdout",
     "output_type": "stream",
     "text": [
      "Testing [9,3,8,6,7,1]: 3\n",
      "Testing [10,2,2,8,20,12,32,16,19]: 5\n"
     ]
    }
   ],
   "source": [
    "#P2 (35%). Please write a function that takes as input a non-empty list of integers, \n",
    "#e.g., lst, and returns the length of a subsequence such that: \n",
    "#(1) the elements of this subsequence appear in increasing order within the original sequence/list, \n",
    "#and (2) the length of this subsequence is maximum. \n",
    "#A subsequence is a sequence that can be derived from another sequence by deleting some or \n",
    "#no elements without changing the order of the remaining elements. \n",
    "#For example, [1,3] and [2,3,4] are subsequences of the sequence/list [1,2,3,4,5].\n",
    "\n",
    "#If lst = [9,3,8,6,7,1], then the function should return 3, \n",
    "#because the subsequence satisfying the two conditions above is [3,6,7], which has length of 3.\n",
    "\n",
    "#If lst = [10,2,2,8,20,12,32,16,19], then the function should return 5, \n",
    "#because the subsequence satisfying the two conditions above is [2,8,12,16,19], which has length of 5.\n",
    "\n",
    "import itertools\n",
    "\n",
    "\n",
    "def max_ascending_subseq(sequence):\n",
    "    '''\n",
    "    Returns the length of the longest ascending subsequence in the list of numbers provided.\n",
    "    '''\n",
    "    \n",
    "    def is_ascending(subsequence):\n",
    "        '''\n",
    "        Tests whether the subsequence provided is in ascending order.\n",
    "        '''\n",
    "        for index in range(len(subsequence)-1):\n",
    "            if subsequence[index] < subsequence[index+1]:\n",
    "                keep = True\n",
    "            else: return False\n",
    "        return keep\n",
    "    \n",
    "    for n in range(len(sequence),0,-1):   #starting by sampling the greatest number of items in the list\n",
    "        #store list of all the combinations possible by choosing n numbers (in order) from the sequence\n",
    "        combos = (list(element) for element in list(itertools.combinations(sequence,n)))\n",
    "        \n",
    "        for item in combos:              #for each item in the combination list\n",
    "            if is_ascending(item):       #test to see if the item (aka subsequence) is in ascending order\n",
    "                return len(item)                 #the first instance where the subsequence is in ascending order,\n",
    "                                         #it returns the length of that subsequence\n",
    "            else: continue\n",
    "                \n",
    "print('Testing [9,3,8,6,7,1]:',max_ascending_subseq([9,3,8,6,7,1]))\n",
    "print('Testing [10,2,2,8,20,12,32,16,19]:',max_ascending_subseq([10,2,2,8,20,12,32,16,19]))\n",
    "\n",
    "#gives you a list of tuples of all possible digit combinations\n",
    "#comb_list = list(itertools.combinations(digit_list,newnum_len)) \n",
    "    #gives you a list of tuples of all possible digit combinations"
   ]
  },
  {
   "cell_type": "markdown",
   "id": "3f6b64e2",
   "metadata": {},
   "source": [
    "### Problem 3"
   ]
  },
  {
   "cell_type": "code",
   "execution_count": 3,
   "id": "7b940848",
   "metadata": {},
   "outputs": [
    {
     "name": "stdout",
     "output_type": "stream",
     "text": [
      "Dog:Annie:3\n",
      "Dog:Buddy:4\n",
      "Dog:AnnieBuddy:0\n",
      "Annie ('Parent1:MommaDog', 'Parent2:None')\n",
      "Buddy ('Parent1:None', 'Parent2:PapaDog')\n",
      "AnnieBuddy ('Parent1:Annie', 'Parent2:Buddy')\n"
     ]
    }
   ],
   "source": [
    "#P3 (35%). Please write a program to define a subclass, namely Dog, \n",
    "#which inherits from the class, Animal, which is shown as follows. \n",
    "#Each Dog object has a name (e.g., a string) and an age (e.g., an integer). \n",
    "#Each Dog object also has parents, i.e., mother dog and father dog; \n",
    "#the mother and father dogs of a Dog object are None if its parents are not specified.\n",
    "\n",
    "#The Dog subclass needs to\n",
    "# • Define or override an __init__ method with proper parameters to initialize necessary attributes.\n",
    "\n",
    "# • Define or override a method such that applying the + operator on two Dog objects, \n",
    "#       dog_a + dog_b, produces another Dog object, dog_c, which will have an age 0. \n",
    "#       Additionally, the name of dog_c will be a string concatenating the names of its mother and father dogs;\n",
    "#       dog_a and dog_b are the parents of dog_c.\n",
    "\n",
    "# • Define or override a method to return the parents (i.e., the mother and father dogs) of a Dog object. \n",
    "#       If the parents of this Dog object are not specified, \n",
    "#       the method returns None for the mother dog and None for the father dog.\n",
    "\n",
    "# • Define or override a method such that print(dog_a) prints a \n",
    "#       string representation of the dog_a object as: \n",
    "#       Dog:name:age, where name and age should be replaced by the values of \n",
    "#       name and age of dog_a, respectively.\n",
    "\n",
    "\n",
    "class Animal:\n",
    "    def __init__(self, name, age):\n",
    "        self.name = name\n",
    "        self.age = age\n",
    "    def get_age(self):\n",
    "        return self.age\n",
    "    def get_name(self):\n",
    "        return self.name\n",
    "\n",
    "    \n",
    "class Dog(Animal):\n",
    "    '''\n",
    "    Subclass of Animal class\n",
    "    Allows for name, age, parent1 (default = 'None'), and parent2 (default = 'None') arguments.\n",
    "    \n",
    "    __add__ method:\n",
    "        Two Dog classes may be added together to create a third Dog object with age 0.\n",
    "    \n",
    "    get_parents method: gives the names of the two parents\n",
    "    \n",
    "    Printing the Dog object will print a string representation of Dog:name:age.\n",
    "    \n",
    "    '''\n",
    "    def __init__(self, name, age, parent1 = None, parent2 = None):  #Parent names default to \"None\"\n",
    "        super().__init__(name,age)   #inherits name and age parameters from superclass\n",
    "        self.parent1 = parent1\n",
    "        self.parent2 = parent2\n",
    "    def __add__(self, other): #name is parent names added together, age set to 0, parents are the two added dogs\n",
    "        return Dog(name = str(self.name)+str(other.name), age = 0, parent1 = self.name, parent2 = other.name)\n",
    "    def get_parents(self):\n",
    "        return \"Parent1:\"+str(self.parent1), \"Parent2:\"+str(self.parent2)\n",
    "    def __str__(self):\n",
    "        return \"Dog:{0}:{1}\".format(str(self.name),str(self.age))\n",
    "\n",
    "dog_a = Dog('Annie', 3, 'MommaDog')\n",
    "dog_b = Dog('Buddy', 4, parent2 = 'PapaDog')\n",
    "dog_c = dog_a + dog_b\n",
    "\n",
    "print(dog_a)\n",
    "print(dog_b)\n",
    "print(dog_c)\n",
    "print(dog_a.name, dog_a.get_parents())\n",
    "print(dog_b.name, dog_b.get_parents())\n",
    "print(dog_c.name, dog_c.get_parents())\n"
   ]
  }
 ],
 "metadata": {
  "kernelspec": {
   "display_name": "Python 3 (ipykernel)",
   "language": "python",
   "name": "python3"
  },
  "language_info": {
   "codemirror_mode": {
    "name": "ipython",
    "version": 3
   },
   "file_extension": ".py",
   "mimetype": "text/x-python",
   "name": "python",
   "nbconvert_exporter": "python",
   "pygments_lexer": "ipython3",
   "version": "3.11.5"
  }
 },
 "nbformat": 4,
 "nbformat_minor": 5
}
