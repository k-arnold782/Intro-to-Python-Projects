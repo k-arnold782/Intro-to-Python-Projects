{
 "cells": [
  {
   "cell_type": "code",
   "execution_count": 1,
   "metadata": {},
   "outputs": [
    {
     "name": "stdout",
     "output_type": "stream",
     "text": [
      "Square root of 100:  10.0\n"
     ]
    },
    {
     "ename": "ValueError",
     "evalue": "Invalid arguments!",
     "output_type": "error",
     "traceback": [
      "\u001b[0;31m---------------------------------------------------------------------------\u001b[0m",
      "\u001b[0;31mValueError\u001b[0m                                Traceback (most recent call last)",
      "Cell \u001b[0;32mIn[1], line 20\u001b[0m\n\u001b[1;32m     17\u001b[0m     \u001b[38;5;28;01mreturn\u001b[39;00m sqrt(num)\n\u001b[1;32m     19\u001b[0m \u001b[38;5;28mprint\u001b[39m(\u001b[38;5;124m'\u001b[39m\u001b[38;5;124mSquare root of 100: \u001b[39m\u001b[38;5;124m'\u001b[39m, calculate_square_root(\u001b[38;5;241m100\u001b[39m)) \u001b[38;5;66;03m# Return 10.0\u001b[39;00m\n\u001b[0;32m---> 20\u001b[0m \u001b[38;5;28mprint\u001b[39m(\u001b[38;5;124m'\u001b[39m\u001b[38;5;124mSquare root of -2: \u001b[39m\u001b[38;5;124m'\u001b[39m, calculate_square_root(\u001b[38;5;241m-\u001b[39m\u001b[38;5;241m2\u001b[39m))\n",
      "Cell \u001b[0;32mIn[1], line 10\u001b[0m, in \u001b[0;36mvalidate_nonnegative.<locals>.decorator_sqrt.<locals>.wrapper\u001b[0;34m(*args, **kwargs)\u001b[0m\n\u001b[1;32m      8\u001b[0m     \u001b[38;5;28;01mreturn\u001b[39;00m func(\u001b[38;5;241m*\u001b[39margs, \u001b[38;5;241m*\u001b[39m\u001b[38;5;241m*\u001b[39mkwargs)\n\u001b[1;32m      9\u001b[0m \u001b[38;5;28;01melse\u001b[39;00m:\n\u001b[0;32m---> 10\u001b[0m     \u001b[38;5;28;01mraise\u001b[39;00m \u001b[38;5;167;01mValueError\u001b[39;00m(\u001b[38;5;124m\"\u001b[39m\u001b[38;5;124mInvalid arguments!\u001b[39m\u001b[38;5;124m\"\u001b[39m)\n",
      "\u001b[0;31mValueError\u001b[0m: Invalid arguments!"
     ]
    }
   ],
   "source": [
    "# P1\n",
    "from math import sqrt\n",
    "\n",
    "def validate_nonnegative(condition):\n",
    "    def decorator_sqrt(func):\n",
    "        def wrapper(*args, **kwargs):\n",
    "            if condition(*args, **kwargs):\n",
    "                return func(*args, **kwargs)\n",
    "            else:\n",
    "                raise ValueError(\"Invalid arguments!\")\n",
    "        return wrapper\n",
    "    return decorator_sqrt\n",
    "\n",
    "\n",
    "@validate_nonnegative(lambda num: num > 0)\n",
    "def calculate_square_root(num):\n",
    "    return sqrt(num)\n",
    "\n",
    "print('Square root of 100: ', calculate_square_root(100)) # Return 10.0\n",
    "print('Square root of -2: ', calculate_square_root(-2))  # Raises a ValueError: Invalid arguments"
   ]
  },
  {
   "cell_type": "code",
   "execution_count": 2,
   "metadata": {},
   "outputs": [
    {
     "name": "stdout",
     "output_type": "stream",
     "text": [
      "Calling the reset method 1 times.\n",
      "Calling the reset method 2 times.\n",
      "Calling the reset method 3 times.\n",
      "Calling the reset method 4 times.\n"
     ]
    },
    {
     "ename": "Exception",
     "evalue": "Reached call limit!",
     "output_type": "error",
     "traceback": [
      "\u001b[0;31m---------------------------------------------------------------------------\u001b[0m",
      "\u001b[0;31mException\u001b[0m                                 Traceback (most recent call last)",
      "Cell \u001b[0;32mIn[2], line 29\u001b[0m\n\u001b[1;32m     27\u001b[0m \u001b[38;5;28;01mfor\u001b[39;00m item \u001b[38;5;129;01min\u001b[39;00m \u001b[38;5;28mrange\u001b[39m(\u001b[38;5;241m5\u001b[39m):\n\u001b[1;32m     28\u001b[0m     \u001b[38;5;28mprint\u001b[39m(\u001b[38;5;124mf\u001b[39m\u001b[38;5;124m'\u001b[39m\u001b[38;5;124mCalling the reset method \u001b[39m\u001b[38;5;132;01m{\u001b[39;00mitem\u001b[38;5;250m \u001b[39m\u001b[38;5;241m+\u001b[39m\u001b[38;5;250m \u001b[39m\u001b[38;5;241m1\u001b[39m\u001b[38;5;132;01m}\u001b[39;00m\u001b[38;5;124m times.\u001b[39m\u001b[38;5;124m'\u001b[39m)\n\u001b[0;32m---> 29\u001b[0m     stop_watch\u001b[38;5;241m.\u001b[39mreset()\n",
      "Cell \u001b[0;32mIn[2], line 9\u001b[0m, in \u001b[0;36mcall_limits.<locals>.decorator_call.<locals>.wrapper\u001b[0;34m(*args, **kwargs)\u001b[0m\n\u001b[1;32m      7\u001b[0m \u001b[38;5;66;03m# Check if the call count has reached the limit\u001b[39;00m\n\u001b[1;32m      8\u001b[0m \u001b[38;5;28;01mif\u001b[39;00m calls \u001b[38;5;241m>\u001b[39m\u001b[38;5;241m=\u001b[39m limit:\n\u001b[0;32m----> 9\u001b[0m     \u001b[38;5;28;01mraise\u001b[39;00m \u001b[38;5;167;01mException\u001b[39;00m(\u001b[38;5;124m\"\u001b[39m\u001b[38;5;124mReached call limit!\u001b[39m\u001b[38;5;124m\"\u001b[39m)\n\u001b[1;32m     10\u001b[0m calls \u001b[38;5;241m+\u001b[39m\u001b[38;5;241m=\u001b[39m \u001b[38;5;241m1\u001b[39m\n\u001b[1;32m     11\u001b[0m \u001b[38;5;28;01mreturn\u001b[39;00m method(\u001b[38;5;241m*\u001b[39margs, \u001b[38;5;241m*\u001b[39m\u001b[38;5;241m*\u001b[39mkwargs)\n",
      "\u001b[0;31mException\u001b[0m: Reached call limit!"
     ]
    }
   ],
   "source": [
    "# P2\n",
    "def call_limits(limit):\n",
    "    def decorator_call(method):\n",
    "        calls = 0\n",
    "        def wrapper(*args, **kwargs):\n",
    "            nonlocal calls\n",
    "            # Check if the call count has reached the limit\n",
    "            if calls >= limit:\n",
    "                raise Exception(\"Reached call limit!\")\n",
    "            calls += 1\n",
    "            return method(*args, **kwargs)\n",
    "        return wrapper\n",
    "    return decorator_call\n",
    "\n",
    "\n",
    "class StopWatch:\n",
    "    limit = 3\n",
    "    def __init__(self):\n",
    "        self._count_reset = 0\n",
    "    \n",
    "    @call_limits(limit)\n",
    "    def reset(self):\n",
    "        self._count_reset += 1\n",
    "\n",
    "\n",
    "stop_watch = StopWatch()\n",
    "for item in range(5):\n",
    "    print(f'Calling the reset method {item + 1} times.')\n",
    "    stop_watch.reset()"
   ]
  },
  {
   "cell_type": "code",
   "execution_count": null,
   "metadata": {},
   "outputs": [],
   "source": []
  }
 ],
 "metadata": {
  "kernelspec": {
   "display_name": "Python 3 (ipykernel)",
   "language": "python",
   "name": "python3"
  },
  "language_info": {
   "codemirror_mode": {
    "name": "ipython",
    "version": 3
   },
   "file_extension": ".py",
   "mimetype": "text/x-python",
   "name": "python",
   "nbconvert_exporter": "python",
   "pygments_lexer": "ipython3",
   "version": "3.11.5"
  }
 },
 "nbformat": 4,
 "nbformat_minor": 4
}
