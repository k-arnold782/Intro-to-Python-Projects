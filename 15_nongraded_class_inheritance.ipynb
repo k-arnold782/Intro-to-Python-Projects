{
 "cells": [
  {
   "cell_type": "code",
   "execution_count": 1,
   "metadata": {},
   "outputs": [
    {
     "name": "stdout",
     "output_type": "stream",
     "text": [
      "Student name: Jim\n",
      "Student ID: 231\n",
      "Student courses: {}\n",
      "Student courses: {'Python Programming': 'A'}\n",
      "Student courses: {'Python Programming': 'A', 'Data Analysis': 'A-'}\n"
     ]
    }
   ],
   "source": [
    "# P1\n",
    "\n",
    "class Person:\n",
    "    def __init__(self, name):\n",
    "        self.name = name\n",
    "        \n",
    "    def get_name(self):\n",
    "        return self.name\n",
    "    \n",
    "class Student(Person):\n",
    "    def __init__(self, name, student_id, courses = {}):\n",
    "        super().__init__(name)\n",
    "        self.student_id = student_id\n",
    "        self.courses = courses\n",
    "        \n",
    "    def get_student_id(self):\n",
    "        return self.student_id\n",
    "    \n",
    "    def get_courses(self):\n",
    "        return self.courses\n",
    "        \n",
    "    def set_courses(self, key, new_value):\n",
    "        self.courses[key] = new_value\n",
    "        \n",
    "        \n",
    "std = Student(\"Jim\", 231)\n",
    "print(f\"Student name: {std.get_name()}\")\n",
    "print(f\"Student ID: {std.get_student_id()}\")\n",
    "print(f\"Student courses: {std.get_courses()}\", )\n",
    "std.set_courses(\"Python Programming\", \"A\")\n",
    "print(f\"Student courses: {std.get_courses()}\")\n",
    "std.set_courses(\"Data Analysis\", \"A-\")\n",
    "print(f\"Student courses: {std.get_courses()}\")"
   ]
  },
  {
   "cell_type": "code",
   "execution_count": 2,
   "metadata": {},
   "outputs": [
    {
     "name": "stdout",
     "output_type": "stream",
     "text": [
      "Invoking my exception : Something wrong\n"
     ]
    }
   ],
   "source": [
    "# P2\n",
    "\n",
    "class MyException(Exception):\n",
    "    pass\n",
    "        \n",
    "try:\n",
    "    raise MyException(\"Invoking my exception\")\n",
    "except MyException as e:\n",
    "    print(e, \": Something wrong\")"
   ]
  },
  {
   "cell_type": "code",
   "execution_count": null,
   "metadata": {},
   "outputs": [],
   "source": []
  }
 ],
 "metadata": {
  "kernelspec": {
   "display_name": "Python 3 (ipykernel)",
   "language": "python",
   "name": "python3"
  },
  "language_info": {
   "codemirror_mode": {
    "name": "ipython",
    "version": 3
   },
   "file_extension": ".py",
   "mimetype": "text/x-python",
   "name": "python",
   "nbconvert_exporter": "python",
   "pygments_lexer": "ipython3",
   "version": "3.11.5"
  }
 },
 "nbformat": 4,
 "nbformat_minor": 4
}
