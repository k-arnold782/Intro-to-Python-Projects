{
 "cells": [
  {
   "cell_type": "code",
   "execution_count": 1,
   "metadata": {},
   "outputs": [
    {
     "name": "stdout",
     "output_type": "stream",
     "text": [
      "True\n",
      "False\n"
     ]
    }
   ],
   "source": [
    "# P1\n",
    "def has_dup_dict(lst):\n",
    "    dct = {}\n",
    "    for item in lst:\n",
    "        if item in dct:\n",
    "            return True # if find a repeated chharacter, difrectly retturn True\n",
    "        dct[item] = True\n",
    "    return False # No repeated characters are found.\n",
    "\n",
    "lst = [2,3,1,6,9,2]\n",
    "print(has_dup_dict(lst))\n",
    "\n",
    "lst = [2,3,1,6,9]\n",
    "print(has_dup_dict(lst))"
   ]
  },
  {
   "cell_type": "code",
   "execution_count": 2,
   "metadata": {},
   "outputs": [
    {
     "name": "stdout",
     "output_type": "stream",
     "text": [
      "A  B  C  \n",
      "2  10 3  \n",
      "1  2  9  \n",
      "8  0  26 \n"
     ]
    }
   ],
   "source": [
    "# P2\n",
    "dct = {'A':[2,1,8], 'B':[10,2,0], 'C':[3,9,26]}\n",
    "lst = [[key] + value for key, value in dct.items()] # convert the dictionary into a list of lists\n",
    "for row in zip(*lst):\n",
    "    for item in row: # print each row using the ljust method in the string class for left justification\n",
    "        print(str(item).ljust(3), end='')\n",
    "    print()"
   ]
  },
  {
   "cell_type": "code",
   "execution_count": null,
   "metadata": {},
   "outputs": [],
   "source": []
  }
 ],
 "metadata": {
  "kernelspec": {
   "display_name": "Python 3 (ipykernel)",
   "language": "python",
   "name": "python3"
  },
  "language_info": {
   "codemirror_mode": {
    "name": "ipython",
    "version": 3
   },
   "file_extension": ".py",
   "mimetype": "text/x-python",
   "name": "python",
   "nbconvert_exporter": "python",
   "pygments_lexer": "ipython3",
   "version": "3.11.5"
  }
 },
 "nbformat": 4,
 "nbformat_minor": 4
}
