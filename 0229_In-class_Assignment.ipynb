{
 "cells": [
  {
   "cell_type": "markdown",
   "id": "ad7f94cf",
   "metadata": {},
   "source": [
    "# In Class Assignment 3 - 02.29.24"
   ]
  },
  {
   "cell_type": "markdown",
   "id": "8e3c9089",
   "metadata": {},
   "source": [
    "## Problem 1"
   ]
  },
  {
   "cell_type": "code",
   "execution_count": 14,
   "id": "94567f13",
   "metadata": {},
   "outputs": [
    {
     "name": "stdout",
     "output_type": "stream",
     "text": [
      "x = 1: [10, 1, 2, 3, 4, 5, 6, 7, 8, 9]\n",
      "x = 11: [10, 1, 2, 3, 4, 5, 6, 7, 8, 9]\n",
      "x = 3: [8, 9, 10, 1, 2, 3, 4, 5, 6, 7]\n",
      "x = -2: [3, 4, 5, 6, 7, 8, 9, 10, 1, 2]\n",
      "x = -32: [3, 4, 5, 6, 7, 8, 9, 10, 1, 2]\n",
      "x = -9: ['b', 'c', 'd', 'e', 'f', 'g', 'h', 'a']\n",
      "x = -1: ['b', 'c', 'd', 'e', 'f', 'g', 'h', 'a']\n",
      "x = 0: ['a', 'b', 'c', 'd', 'e', 'f', 'g', 'h']\n",
      "x = 10: ['g', 'h', 'a', 'b', 'c', 'd', 'e', 'f']\n",
      "x = 2: ['g', 'h', 'a', 'b', 'c', 'd', 'e', 'f']\n"
     ]
    }
   ],
   "source": [
    "#Please write a function that takes as input a non-empty list and an integer, x. \n",
    "#If x is positive, the function rotates the list by x number of elements in the right direction; \n",
    "#if x is negative, the function rotates the list by -x number of elements in the left direction; \n",
    "#if x is 0, the function does not rotate the list. \n",
    "#The function should be able to take as input an arbitrary-length list and return the rotated list. \n",
    "#In addition to the function, please write some codes to test your function.\n",
    "\n",
    "\n",
    "\n",
    "def rotate(lst,x):\n",
    "    '''\n",
    "    Takes a list and an integer, x.\n",
    "    If x is positive, the function rotates the list by x number of elements in the right direction; \n",
    "    if x is negative, the function rotates the list by -x number of elements in the left direction; \n",
    "    if x is 0, the function does not rotate the list. \n",
    "    '''\n",
    "    new_indices = []\n",
    "    new_lst = []\n",
    "    x = x%len(lst)                               #Getting rid of the 'extra' (for when x is longer than list length)\n",
    "    for index in range(0,len(lst)):\n",
    "        new_indices.append((index - x)%len(lst)) #Reassigning the indices to a new lst for calling indices from original list\n",
    "    for index in new_indices:\n",
    "        new_lst.append(lst[index])               #Grab the correct elements from the original list and make into a new list\n",
    "    return new_lst\n",
    "\n",
    "print('x = 1:',rotate([1,2,3,4,5,6,7,8,9,10],1))\n",
    "print('x = 11:',rotate([1,2,3,4,5,6,7,8,9,10],11))\n",
    "print('x = 3:',rotate([1,2,3,4,5,6,7,8,9,10],3))\n",
    "print('x = -2:',rotate([1,2,3,4,5,6,7,8,9,10],-2))\n",
    "print('x = -32:',rotate([1,2,3,4,5,6,7,8,9,10],-32))\n",
    "print('x = -9:',rotate(['a', 'b', 'c', 'd', 'e', 'f', 'g', 'h'],-9))\n",
    "print('x = -1:',rotate(['a', 'b', 'c', 'd', 'e', 'f', 'g', 'h'],-1))\n",
    "print('x = 0:',rotate(['a', 'b', 'c', 'd', 'e', 'f', 'g', 'h'],0))\n",
    "print('x = 10:',rotate(['a', 'b', 'c', 'd', 'e', 'f', 'g', 'h'],10))\n",
    "print('x = 2:',rotate(['a', 'b', 'c', 'd', 'e', 'f', 'g', 'h'],2))"
   ]
  },
  {
   "cell_type": "markdown",
   "id": "5c59178c",
   "metadata": {},
   "source": [
    "## Problem 2"
   ]
  },
  {
   "cell_type": "code",
   "execution_count": 47,
   "id": "c9558613",
   "metadata": {},
   "outputs": [
    {
     "name": "stdout",
     "output_type": "stream",
     "text": [
      "ba\n",
      "None\n",
      "x\n"
     ]
    }
   ],
   "source": [
    "\n",
    "\n",
    "def first_two_repeats(string):\n",
    "    '''\n",
    "    Takes a non-empty string as input and returns a new string containing the \n",
    "    first and second repeated characters that appear in the input string.\n",
    "    Does not return two of the same letter.\n",
    "    '''\n",
    "    test_lst = []\n",
    "    store_str = ''\n",
    "    for letter in string:\n",
    "        test_lst.append(letter)    #Add letter to the test_list\n",
    "        if len(set(test_lst)) < len(test_lst): #If there is a repeat, the set will be shorter than the list\n",
    "            if letter not in store_str:        #If the letter is not already in the stored string, then add it\n",
    "                store_str = store_str+letter        #Store the repeat element in a string\n",
    "            del test_lst[len(test_lst)-1]           #get rid of the last element in test_lst because it's a repeat.\n",
    "        if len(store_str) == 2:                 #If there are two stored (repeated) letters, then it stops \n",
    "            return(store_str)\n",
    "    if len(store_str) == 0:\n",
    "            return 'None'\n",
    "    return(store_str)    #Will return the letter if there is only 1 letter in stored string.\n",
    "\n",
    "\n",
    "print(first_two_repeats('abcbda'))\n",
    "print(first_two_repeats('abc'))\n",
    "print(first_two_repeats('xyxx'))"
   ]
  }
 ],
 "metadata": {
  "kernelspec": {
   "display_name": "Python 3 (ipykernel)",
   "language": "python",
   "name": "python3"
  },
  "language_info": {
   "codemirror_mode": {
    "name": "ipython",
    "version": 3
   },
   "file_extension": ".py",
   "mimetype": "text/x-python",
   "name": "python",
   "nbconvert_exporter": "python",
   "pygments_lexer": "ipython3",
   "version": "3.11.5"
  }
 },
 "nbformat": 4,
 "nbformat_minor": 5
}
