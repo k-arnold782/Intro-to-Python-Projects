{
 "cells": [
  {
   "cell_type": "code",
   "execution_count": null,
   "metadata": {},
   "outputs": [],
   "source": [
    "# P1\n",
    "import numpy as np\n",
    "\n",
    "arr = np.arange(10)\n",
    "print(arr,end='\\n\\n')\n",
    "\n",
    "# Do not modify the original array\n",
    "output = np.where(arr % 2 == 1, -2, arr)\n",
    "print(output)\n",
    "print(arr,end='\\n\\n')\n",
    "\n",
    "# Modify the original array\n",
    "arr[arr%2 == 1] = -2\n",
    "print(arr)"
   ]
  },
  {
   "cell_type": "code",
   "execution_count": 2,
   "metadata": {},
   "outputs": [
    {
     "name": "stdout",
     "output_type": "stream",
     "text": [
      "[2 7]\n"
     ]
    }
   ],
   "source": [
    "# P2\n",
    "import numpy as np\n",
    "\n",
    "arr = np.array([2, 1, 3, 2, 2, 6, 8, 9, 1])\n",
    "diff2 = np.diff(np.sign(np.diff(arr)))\n",
    "peak_locations = np.where(diff2 == -2)[0] + 1\n",
    "print(peak_locations)"
   ]
  },
  {
   "cell_type": "code",
   "execution_count": null,
   "metadata": {},
   "outputs": [],
   "source": []
  }
 ],
 "metadata": {
  "kernelspec": {
   "display_name": "Python 3 (ipykernel)",
   "language": "python",
   "name": "python3"
  },
  "language_info": {
   "codemirror_mode": {
    "name": "ipython",
    "version": 3
   },
   "file_extension": ".py",
   "mimetype": "text/x-python",
   "name": "python",
   "nbconvert_exporter": "python",
   "pygments_lexer": "ipython3",
   "version": "3.11.5"
  }
 },
 "nbformat": 4,
 "nbformat_minor": 4
}
