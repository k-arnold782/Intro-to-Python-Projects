{
 "cells": [
  {
   "cell_type": "code",
   "execution_count": 1,
   "metadata": {},
   "outputs": [
    {
     "name": "stdout",
     "output_type": "stream",
     "text": [
      "+-+-+-+-+-+-+-+-+-+-+-+-+-+-+-+-+-+-+-+-\n"
     ]
    }
   ],
   "source": [
    "# P1\n",
    "# Original codes\n",
    "# Please revise the following code by \n",
    "# using a while loop instead of a for loop \n",
    "for a in range(-20, 20, 2):\n",
    "    print('+-', end='')\n",
    "print()\n"
   ]
  },
  {
   "cell_type": "code",
   "execution_count": 2,
   "metadata": {},
   "outputs": [
    {
     "name": "stdout",
     "output_type": "stream",
     "text": [
      "+-+-+-+-+-+-+-+-+-+-+-+-+-+-+-+-+-+-+-+-\n"
     ]
    }
   ],
   "source": [
    "# P1\n",
    "# Revised codes\n",
    "entry = -20\n",
    "while entry < 20:\n",
    "    print('+-', end='')\n",
    "    entry += 2\n",
    "print()"
   ]
  },
  {
   "cell_type": "code",
   "execution_count": 3,
   "metadata": {},
   "outputs": [
    {
     "name": "stdout",
     "output_type": "stream",
     "text": [
      "10\n",
      "a = 4\n",
      "2\n",
      "a = 3\n",
      "30\n",
      "100\n",
      "a = 2\n",
      "12\n",
      "a = 1\n",
      "32\n",
      "a = 0\n"
     ]
    }
   ],
   "source": [
    "# P2\n",
    "# Original codes\n",
    "# Please revise/rewrite the following code by removing the continue statement \n",
    "# such that your revised code should behave identically to \n",
    "# the original code. \n",
    "a = 5\n",
    "while a > 0:\n",
    "    b = int(input())\n",
    "    if b == 30:\n",
    "        continue\n",
    "    a -= 1\n",
    "    print('a =', a)"
   ]
  },
  {
   "cell_type": "code",
   "execution_count": 4,
   "metadata": {},
   "outputs": [
    {
     "name": "stdout",
     "output_type": "stream",
     "text": [
      "10\n",
      "a = 4\n",
      "2\n",
      "a = 3\n",
      "30\n",
      "100\n",
      "a = 2\n",
      "12\n",
      "a = 1\n",
      "32\n",
      "a = 0\n"
     ]
    }
   ],
   "source": [
    "# P2\n",
    "# Revised codes 1\n",
    "a = 5\n",
    "while a > 0:\n",
    "    b = int(input())\n",
    "    if b == 30:\n",
    "        pass\n",
    "    else:\n",
    "        a -= 1\n",
    "        print('a =', a)"
   ]
  },
  {
   "cell_type": "code",
   "execution_count": 5,
   "metadata": {},
   "outputs": [
    {
     "name": "stdout",
     "output_type": "stream",
     "text": [
      "10\n",
      "a = 4\n",
      "2\n",
      "a = 3\n",
      "30\n",
      "100\n",
      "a = 2\n",
      "-1\n"
     ]
    }
   ],
   "source": [
    "# Problem 2\n",
    "# Revised codes 2\n",
    "a = 5\n",
    "while a > 0:\n",
    "    b = int(input())\n",
    "    if b < 0:\n",
    "        break\n",
    "    elif b == 30:\n",
    "        pass\n",
    "    else:\n",
    "        a -= 1\n",
    "        print('a =', a)"
   ]
  },
  {
   "cell_type": "code",
   "execution_count": 6,
   "metadata": {},
   "outputs": [
    {
     "name": "stdout",
     "output_type": "stream",
     "text": [
      "Level: 9\n",
      "* * * * * * * * *\n",
      " * * * * * * * *\n",
      "  * * * * * * *\n",
      "   * * * * * *\n",
      "    * * * * *\n",
      "     * * * *\n",
      "      * * *\n",
      "       * *\n",
      "        *\n"
     ]
    }
   ],
   "source": [
    "# P3\n",
    "# Please write a Python program to draw reversed pyramid patterns. \n",
    "level = int(input('Level: '))\n",
    "for row in range(level, 0, -1):\n",
    "    print(' ' * (level - row) + '* ' * (row - 1) + '*')"
   ]
  },
  {
   "cell_type": "code",
   "execution_count": null,
   "metadata": {},
   "outputs": [],
   "source": []
  }
 ],
 "metadata": {
  "kernelspec": {
   "display_name": "Python 3 (ipykernel)",
   "language": "python",
   "name": "python3"
  },
  "language_info": {
   "codemirror_mode": {
    "name": "ipython",
    "version": 3
   },
   "file_extension": ".py",
   "mimetype": "text/x-python",
   "name": "python",
   "nbconvert_exporter": "python",
   "pygments_lexer": "ipython3",
   "version": "3.11.5"
  }
 },
 "nbformat": 4,
 "nbformat_minor": 4
}
