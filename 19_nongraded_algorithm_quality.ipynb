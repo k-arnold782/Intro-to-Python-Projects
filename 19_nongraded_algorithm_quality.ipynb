{
 "cells": [
  {
   "cell_type": "code",
   "execution_count": 1,
   "metadata": {},
   "outputs": [
    {
     "name": "stdout",
     "output_type": "stream",
     "text": [
      "[2, 4, 6, 8, 10, 9, 7, 5, 3, 1]\n",
      "[2, 8, 9, 7, 1, -3, -5]\n"
     ]
    }
   ],
   "source": [
    "# P1\n",
    "def my_sort(lst):\n",
    "    even_lst = [ele for ele in lst if ele % 2 == 0]\n",
    "    odd_lst = [ele for ele in lst if ele % 2 != 0]\n",
    "    even_lst.sort()\n",
    "    odd_lst.sort(reverse = True)\n",
    "    return even_lst + odd_lst\n",
    "\n",
    "lst = [2, 1, 10, 4, 3, 6, 7, 9, 8, 5]\n",
    "print(my_sort(lst))\n",
    "\n",
    "lst = [9, -3, 2, 7, 1, -5, 8]\n",
    "print(my_sort(lst))"
   ]
  },
  {
   "cell_type": "code",
   "execution_count": 2,
   "metadata": {},
   "outputs": [
    {
     "name": "stdout",
     "output_type": "stream",
     "text": [
      "([12, 8], 96)\n",
      "([6, 6], 36)\n"
     ]
    }
   ],
   "source": [
    "# P2\n",
    "\n",
    "def find_maxprod(lst):\n",
    "    lst_len = len(lst)\n",
    "    if lst_len < 2:\n",
    "        print('List too short.')\n",
    "        return None\n",
    "    \n",
    "    maxi, maxj = lst[0], lst[1]\n",
    "    for idx in range(0, lst_len-1):\n",
    "        for jdx in range(idx+1, lst_len):\n",
    "            if lst[idx] * lst[jdx] > maxi * maxj:\n",
    "                maxi, maxj = lst[idx], lst[jdx]\n",
    "    return [maxi, maxj], maxi * maxj\n",
    "\n",
    "\n",
    "lst = [2, 1, 12, 6, 2, 8]\n",
    "print(find_maxprod(lst))\n",
    "\n",
    "lst = [6, 3, 1, 0, 6]\n",
    "print(find_maxprod(lst))"
   ]
  },
  {
   "cell_type": "code",
   "execution_count": null,
   "metadata": {},
   "outputs": [],
   "source": []
  }
 ],
 "metadata": {
  "kernelspec": {
   "display_name": "Python 3 (ipykernel)",
   "language": "python",
   "name": "python3"
  },
  "language_info": {
   "codemirror_mode": {
    "name": "ipython",
    "version": 3
   },
   "file_extension": ".py",
   "mimetype": "text/x-python",
   "name": "python",
   "nbconvert_exporter": "python",
   "pygments_lexer": "ipython3",
   "version": "3.11.5"
  }
 },
 "nbformat": 4,
 "nbformat_minor": 4
}
