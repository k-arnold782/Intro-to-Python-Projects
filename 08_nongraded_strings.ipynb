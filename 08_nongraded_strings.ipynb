{
 "cells": [
  {
   "cell_type": "code",
   "execution_count": 1,
   "metadata": {},
   "outputs": [
    {
     "name": "stdout",
     "output_type": "stream",
     "text": [
      "2\n"
     ]
    }
   ],
   "source": [
    "# P1\n",
    "\n",
    "def count_substr(str1, str2):\n",
    "    count = 0\n",
    "    len2 = len(str2)\n",
    "    for idx in range(len(str1) - len2 + 1):\n",
    "        if str1[idx:idx+len2] == str2:\n",
    "            count += 1\n",
    "    return count\n",
    "\n",
    "str1 = 'banana'\n",
    "str2 = 'ana'\n",
    "print(count_substr(str1, str2))"
   ]
  },
  {
   "cell_type": "code",
   "execution_count": 2,
   "metadata": {},
   "outputs": [
    {
     "name": "stdout",
     "output_type": "stream",
     "text": [
      "python programming\n",
      "python programming\n"
     ]
    }
   ],
   "source": [
    "# P2\n",
    "\n",
    "# Solution 1\n",
    "def remove_chars(str1, str2):\n",
    "    final_str = ''\n",
    "    for chr1 in str1:\n",
    "        if chr1 not in str2:\n",
    "            final_str += chr1\n",
    "    return final_str\n",
    "\n",
    "# Solution 2\n",
    "def remove_chars2(str1, str2):\n",
    "    for chr2 in str2:\n",
    "        str1 = str1.replace(chr2,'')\n",
    "    return str1\n",
    "\n",
    "str1 = 'p#yth%on ^pr*o)gr-amm+ing'\n",
    "str2 = '#%^-+*)'\n",
    "print(remove_chars(str1, str2))\n",
    "print(remove_chars2(str1, str2))"
   ]
  },
  {
   "cell_type": "code",
   "execution_count": null,
   "metadata": {},
   "outputs": [],
   "source": []
  }
 ],
 "metadata": {
  "kernelspec": {
   "display_name": "Python 3 (ipykernel)",
   "language": "python",
   "name": "python3"
  },
  "language_info": {
   "codemirror_mode": {
    "name": "ipython",
    "version": 3
   },
   "file_extension": ".py",
   "mimetype": "text/x-python",
   "name": "python",
   "nbconvert_exporter": "python",
   "pygments_lexer": "ipython3",
   "version": "3.11.5"
  }
 },
 "nbformat": 4,
 "nbformat_minor": 4
}
