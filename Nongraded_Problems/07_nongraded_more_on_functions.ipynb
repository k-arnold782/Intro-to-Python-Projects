{
 "cells": [
  {
   "cell_type": "code",
   "execution_count": 1,
   "metadata": {},
   "outputs": [
    {
     "name": "stdout",
     "output_type": "stream",
     "text": [
      "False\n",
      "True\n",
      "False\n",
      "True\n",
      "False\n",
      "True\n"
     ]
    }
   ],
   "source": [
    "# P1\n",
    "def is_power(a, b):\n",
    "    if a == 1:\n",
    "        return True\n",
    "    if b == 1:\n",
    "        return False\n",
    "    if a % b == 0:\n",
    "        return is_power(a/b, b)\n",
    "    return False\n",
    "\n",
    "# Asssume a and b are positive.\n",
    "print(is_power(6,2))\n",
    "print(is_power(8,2))\n",
    "print(is_power(8,1))\n",
    "print(is_power(100,10))\n",
    "print(is_power(100,12))\n",
    "print(is_power(9,3))"
   ]
  },
  {
   "cell_type": "code",
   "execution_count": 2,
   "metadata": {},
   "outputs": [
    {
     "name": "stdout",
     "output_type": "stream",
     "text": [
      "125\n",
      "509\n"
     ]
    }
   ],
   "source": [
    "# P2\n",
    "def ackermann(m,n):\n",
    "    if m == 0:\n",
    "        return n+1\n",
    "    if n == 0:\n",
    "        return ackermann(m-1, 1)\n",
    "    return ackermann(m-1, ackermann(m, n-1))\n",
    "\n",
    "print(ackermann(3,4))\n",
    "print(ackermann(3,6))"
   ]
  },
  {
   "cell_type": "code",
   "execution_count": 3,
   "metadata": {},
   "outputs": [
    {
     "name": "stdout",
     "output_type": "stream",
     "text": [
      "10\n",
      "10\n"
     ]
    }
   ],
   "source": [
    "# P3\n",
    "def evaluate(f,x):\n",
    "    return f(x)\n",
    "\n",
    "def my_function(x):\n",
    "    result = x**2 + 1\n",
    "    return result\n",
    "\n",
    "print(evaluate(lambda x:x**2+1,3))\n",
    "print(my_function(x=3))"
   ]
  },
  {
   "cell_type": "code",
   "execution_count": null,
   "metadata": {},
   "outputs": [],
   "source": []
  }
 ],
 "metadata": {
  "kernelspec": {
   "display_name": "Python 3 (ipykernel)",
   "language": "python",
   "name": "python3"
  },
  "language_info": {
   "codemirror_mode": {
    "name": "ipython",
    "version": 3
   },
   "file_extension": ".py",
   "mimetype": "text/x-python",
   "name": "python",
   "nbconvert_exporter": "python",
   "pygments_lexer": "ipython3",
   "version": "3.11.5"
  }
 },
 "nbformat": 4,
 "nbformat_minor": 4
}
