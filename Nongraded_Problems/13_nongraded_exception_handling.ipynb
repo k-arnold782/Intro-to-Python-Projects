{
 "cells": [
  {
   "cell_type": "code",
   "execution_count": 1,
   "metadata": {},
   "outputs": [
    {
     "name": "stdout",
     "output_type": "stream",
     "text": [
      "Provide one number: 2\n",
      "Provide another number: one\n",
      "Can not convert input to integers.\n",
      "It is done.\n"
     ]
    }
   ],
   "source": [
    "# P1\n",
    "try:\n",
    "    num1 = int(input(\"Provide one number: \")) \n",
    "    num2 = int(input(\"Provide another number: \")) \n",
    "    print(\"num1/num2 = \", num1/num2) \n",
    "    print(\"num1*num2 = \", num1*num2)\n",
    "except ValueError: # num1 or num2 can not be converted to an integer.\n",
    "    print('Can not convert input to integers.')\n",
    "except ZeroDivisionError: # num2 is 0.\n",
    "    print('Divide by zero.')\n",
    "except Exception: # other types of errors\n",
    "    print('Something wrong.')\n",
    "finally:\n",
    "    print(\"It is done.\")"
   ]
  },
  {
   "cell_type": "code",
   "execution_count": 2,
   "metadata": {},
   "outputs": [
    {
     "name": "stdout",
     "output_type": "stream",
     "text": [
      "Width: 3\n",
      "Height: -2\n",
      "Negative height.\n"
     ]
    }
   ],
   "source": [
    "# P2\n",
    "def get_rectangle_area(width, height):\n",
    "    if width < 0:\n",
    "        raise ValueError('Negative width.') # If width is negative, raise a ValueError.\n",
    "    if height < 0:\n",
    "        raise ValueError('Negative height.') # If height is negative, raise a ValueError.\n",
    "    return width * height # If no errors, return the area\n",
    "\n",
    "# Handle the ValueError excpetions (if any) in the main program\n",
    "try:\n",
    "    width = float(input('Width: '))\n",
    "    height = float(input('Height: '))\n",
    "    area = get_rectangle_area(width, height)\n",
    "    print(area)\n",
    "except ValueError as e:\n",
    "    print(e)"
   ]
  },
  {
   "cell_type": "code",
   "execution_count": null,
   "metadata": {},
   "outputs": [],
   "source": []
  }
 ],
 "metadata": {
  "kernelspec": {
   "display_name": "Python 3 (ipykernel)",
   "language": "python",
   "name": "python3"
  },
  "language_info": {
   "codemirror_mode": {
    "name": "ipython",
    "version": 3
   },
   "file_extension": ".py",
   "mimetype": "text/x-python",
   "name": "python",
   "nbconvert_exporter": "python",
   "pygments_lexer": "ipython3",
   "version": "3.11.5"
  }
 },
 "nbformat": 4,
 "nbformat_minor": 4
}
