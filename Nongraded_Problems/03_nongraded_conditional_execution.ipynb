{
 "cells": [
  {
   "cell_type": "code",
   "execution_count": 1,
   "metadata": {},
   "outputs": [
    {
     "name": "stdout",
     "output_type": "stream",
     "text": [
      "One integer: 2\n",
      "OK\n"
     ]
    }
   ],
   "source": [
    "# P1\n",
    "num = int(input('One integer: ')) # Get an input value from user\n",
    "if num < 0:\n",
    "    print('Negative')\n",
    "elif num <= 10:\n",
    "    print('OK')\n",
    "else:\n",
    "    print('Out of range')"
   ]
  },
  {
   "cell_type": "code",
   "execution_count": 2,
   "metadata": {},
   "outputs": [
    {
     "name": "stdout",
     "output_type": "stream",
     "text": [
      "Please enter four integer values.\n",
      "Enter number 1: 20\n",
      "Enter number 2: 32\n",
      "Enter number 3: 2\n",
      "Enter number 4: 18\n",
      "The maximum number entered was: 32\n",
      "The minimum number entered was: 2\n"
     ]
    }
   ],
   "source": [
    "# P2\n",
    "# Get input values from user\n",
    "print(\"Please enter four integer values.\")\n",
    "num1 = int(input(\"Enter number 1: \"))\n",
    "num2 = int(input(\"Enter number 2: \"))\n",
    "num3 = int(input(\"Enter number 3: \"))\n",
    "num4 = int(input(\"Enter number 4: \"))\n",
    "\n",
    "# Compute the maximum and minimum values\n",
    "max_num = num1\n",
    "if num2 > max_num:\n",
    "    max_num = num2\n",
    "if num3 > max_num:\n",
    "    max_num = num3\n",
    "if num4 > max_num:\n",
    "    max_num = num4\n",
    "\n",
    "min_num = num1\n",
    "if num2 < min_num:\n",
    "    min_num = num2\n",
    "if num3 < min_num:\n",
    "    min_num = num3\n",
    "if num4 < min_num:\n",
    "    min_num = num4\n",
    "\n",
    "# Print results\n",
    "print(\"The maximum number entered was:\", max_num)\n",
    "print(\"The minimum number entered was:\", min_num)"
   ]
  },
  {
   "cell_type": "code",
   "execution_count": null,
   "metadata": {},
   "outputs": [],
   "source": []
  }
 ],
 "metadata": {
  "kernelspec": {
   "display_name": "Python 3 (ipykernel)",
   "language": "python",
   "name": "python3"
  },
  "language_info": {
   "codemirror_mode": {
    "name": "ipython",
    "version": 3
   },
   "file_extension": ".py",
   "mimetype": "text/x-python",
   "name": "python",
   "nbconvert_exporter": "python",
   "pygments_lexer": "ipython3",
   "version": "3.11.5"
  }
 },
 "nbformat": 4,
 "nbformat_minor": 4
}
