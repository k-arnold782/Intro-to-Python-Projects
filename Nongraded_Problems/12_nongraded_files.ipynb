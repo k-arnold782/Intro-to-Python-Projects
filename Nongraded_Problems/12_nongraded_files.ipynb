{
 "cells": [
  {
   "cell_type": "code",
   "execution_count": 1,
   "metadata": {},
   "outputs": [
    {
     "name": "stdout",
     "output_type": "stream",
     "text": [
      "counterdemonstrations\n",
      "hyperaggressivenesses\n",
      "microminiaturizations\n"
     ]
    }
   ],
   "source": [
    "# P1\n",
    "def get_long_words(input_file, output_file):\n",
    "    with open(input_file, 'r') as infile: # load a file\n",
    "        with open(output_file, 'w') as outfile: # write to a file\n",
    "            for line in infile:\n",
    "                line = line.strip() # remove leading and trailing spaces\n",
    "                if len(line) > 20:\n",
    "                    print(line) # print on the output window\n",
    "                    print(line, file = outfile) # write into a file\n",
    "            \n",
    "            \n",
    "input_file = 'words.txt'\n",
    "output_file = 'long_' + input_file\n",
    "get_long_words(input_file, output_file)"
   ]
  },
  {
   "cell_type": "code",
   "execution_count": 2,
   "metadata": {},
   "outputs": [
    {
     "name": "stdout",
     "output_type": "stream",
     "text": [
      "Name     Score    Grade   \n",
      "N4       100      A       \n",
      "N1       99       A       \n",
      "N2       93       A-      \n",
      "N5       92       A-      \n",
      "N3       88       B+      \n"
     ]
    }
   ],
   "source": [
    "# P2\n",
    "import csv\n",
    "\n",
    "with open(\"fake_records.csv\", 'r') as stu_grd:\n",
    "    f_csv = csv.reader(stu_grd)\n",
    "    data = [row for row in f_csv]\n",
    "    header = data[0]\n",
    "    data = data[1:]\n",
    "    sorted_data = sorted(data, key=lambda x: int(x[1]), reverse=True)\n",
    "    print(f\"{header[0]:8} {header[1]:8} {header[2]:8}\")\n",
    "    for idx, item in enumerate(sorted_data):\n",
    "        print(f\"{item[0]:8} {item[1]:8} {item[2]:8}\")"
   ]
  },
  {
   "cell_type": "code",
   "execution_count": null,
   "metadata": {},
   "outputs": [],
   "source": []
  }
 ],
 "metadata": {
  "kernelspec": {
   "display_name": "Python 3 (ipykernel)",
   "language": "python",
   "name": "python3"
  },
  "language_info": {
   "codemirror_mode": {
    "name": "ipython",
    "version": 3
   },
   "file_extension": ".py",
   "mimetype": "text/x-python",
   "name": "python",
   "nbconvert_exporter": "python",
   "pygments_lexer": "ipython3",
   "version": "3.11.5"
  }
 },
 "nbformat": 4,
 "nbformat_minor": 4
}
