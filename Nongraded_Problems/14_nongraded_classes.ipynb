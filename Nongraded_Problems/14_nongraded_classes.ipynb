{
 "cells": [
  {
   "cell_type": "code",
   "execution_count": 1,
   "metadata": {},
   "outputs": [
    {
     "name": "stdout",
     "output_type": "stream",
     "text": [
      "Point 1: (2, 3, 2)\n",
      "Point 2: (-1, 2, 7)\n",
      "Distance between Point 1 and Point 2: 5.916079783099616\n",
      "Point 1 with a new position: : (2, 2, 3)\n"
     ]
    }
   ],
   "source": [
    "# P1\n",
    "import math\n",
    "\n",
    "class Point3D:\n",
    "    \"\"\" Represents a point in 3D space.\n",
    "        attributes: x, y, z \n",
    "    \"\"\"\n",
    "    def __init__(self, x = 0, y = 0, z = 0):\n",
    "        \"\"\" Initialize the point's x, y and z coordinates. \"\"\"\n",
    "        self.x = x\n",
    "        self.y = y\n",
    "        self.z = z\n",
    "        \n",
    "    def move(self, dpm = (0,0,0)):\n",
    "        \"\"\" Move a point to a new position given a displacement. \"\"\"\n",
    "        self.x += dpm[0]\n",
    "        self.y += dpm[1]\n",
    "        self.z += dpm[2]\n",
    "    \n",
    "    def distance(self, other):\n",
    "        \"\"\" Get Euclidean distance between two points. \"\"\"\n",
    "        return math.sqrt((self.x - other.x)**2 + (self.y - other.y)**2 + (self.z - other.z)**2)\n",
    "        \n",
    "    def __str__(self):\n",
    "        \"\"\" Return the string representation for this object. \"\"\"\n",
    "        return '({0}, {1}, {2})'.format(self.x, self.y, self.z)\n",
    "    \n",
    "    \n",
    "point1 = Point3D(2,3,2)\n",
    "point2 = Point3D(-1,2,7)\n",
    "print('Point 1:', point1)\n",
    "print('Point 2:', point2)\n",
    "print('Distance between Point 1 and Point 2:', point1.distance(point2))\n",
    "point1.move((0,-1,1))\n",
    "print('Point 1 with a new position: :', point1)"
   ]
  },
  {
   "cell_type": "code",
   "execution_count": 2,
   "metadata": {},
   "outputs": [
    {
     "name": "stdout",
     "output_type": "stream",
     "text": [
      "Point in circle?  True\n"
     ]
    }
   ],
   "source": [
    "# P2\n",
    "import math\n",
    "\n",
    "class Circle:\n",
    "    \"\"\" Represents a geometric circle object \"\"\"\n",
    "    def __init__(self, center, radius):\n",
    "        \"\"\" Initalize the center's center and radius \"\"\"\n",
    "        # Disallow a negative radius\n",
    "        if radius < 0:\n",
    "            raise ValueError('Negative radius.')\n",
    "        self.center = center\n",
    "        self.radius = radius\n",
    "    \n",
    "    def in_circle(self, point):\n",
    "        \"\"\" Return True if the point is in or on the boundary of the circle \"\"\"\n",
    "        distance = math.sqrt((self.center[0] - point[0])**2 + (self.center[1] - point[1])**2)\n",
    "        return distance <= self.radius\n",
    "\n",
    "\n",
    "try:\n",
    "    circ = Circle((1, 2), 3)\n",
    "    point = (0, 1)\n",
    "    print('Point in circle? ', circ.in_circle(point))\n",
    "except ValueError as e:\n",
    "    print(e)"
   ]
  },
  {
   "cell_type": "code",
   "execution_count": null,
   "metadata": {},
   "outputs": [],
   "source": []
  }
 ],
 "metadata": {
  "kernelspec": {
   "display_name": "Python 3 (ipykernel)",
   "language": "python",
   "name": "python3"
  },
  "language_info": {
   "codemirror_mode": {
    "name": "ipython",
    "version": 3
   },
   "file_extension": ".py",
   "mimetype": "text/x-python",
   "name": "python",
   "nbconvert_exporter": "python",
   "pygments_lexer": "ipython3",
   "version": "3.11.5"
  }
 },
 "nbformat": 4,
 "nbformat_minor": 4
}
