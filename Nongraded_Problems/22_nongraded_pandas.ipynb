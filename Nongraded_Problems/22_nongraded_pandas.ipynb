{
 "cells": [
  {
   "cell_type": "code",
   "execution_count": 1,
   "metadata": {},
   "outputs": [
    {
     "name": "stdout",
     "output_type": "stream",
     "text": [
      "Original Series:\n",
      "0    Python\n",
      "1      Ruby\n",
      "2      Java\n",
      "3       C++\n",
      "4      Perl\n",
      "5       PHP\n",
      "dtype: object\n",
      "\n",
      "Number of characters in each word in the series:\n",
      "0    6\n",
      "1    4\n",
      "2    4\n",
      "3    3\n",
      "4    4\n",
      "5    3\n",
      "dtype: int64\n"
     ]
    }
   ],
   "source": [
    "# P1\n",
    "import pandas as pd\n",
    "import numpy as np\n",
    "series = pd.Series(['Python', 'Ruby', 'Java', 'C++', 'Perl', 'PHP'])\n",
    "print(\"Original Series:\", series, sep='\\n')\n",
    "result = series.map(lambda x: len(x))\n",
    "print(\"\\nNumber of characters in each word in the series:\", result, sep='\\n')"
   ]
  },
  {
   "cell_type": "code",
   "execution_count": 2,
   "metadata": {},
   "outputs": [
    {
     "name": "stdout",
     "output_type": "stream",
     "text": [
      "    a   b   c   d\n",
      "0  11  14  17  20\n",
      "1  14  15  18  21\n",
      "2  13  16  19  22\n",
      "3  14  17  10   9\n",
      "4  15  18  11  18\n",
      "\n",
      "    a   c\n",
      "0  11  17\n",
      "1  14  18\n",
      "2  13  19\n",
      "3  14  10\n",
      "4  15  11\n"
     ]
    }
   ],
   "source": [
    "# P2\n",
    "import pandas as pd\n",
    "data = {'a': [11, 14, 13, 14, 15], 'b': [14, 15, 16, 17, 18], \n",
    "         'c': [17, 18, 19, 10, 11], 'd': [20, 21, 22, 9, 18]}\n",
    "df = pd.DataFrame(data)\n",
    "print(df,end='\\n\\n')\n",
    "print(df.loc[:,['a','c']])"
   ]
  },
  {
   "cell_type": "code",
   "execution_count": null,
   "metadata": {},
   "outputs": [],
   "source": []
  }
 ],
 "metadata": {
  "kernelspec": {
   "display_name": "Python 3 (ipykernel)",
   "language": "python",
   "name": "python3"
  },
  "language_info": {
   "codemirror_mode": {
    "name": "ipython",
    "version": 3
   },
   "file_extension": ".py",
   "mimetype": "text/x-python",
   "name": "python",
   "nbconvert_exporter": "python",
   "pygments_lexer": "ipython3",
   "version": "3.11.5"
  }
 },
 "nbformat": 4,
 "nbformat_minor": 4
}
