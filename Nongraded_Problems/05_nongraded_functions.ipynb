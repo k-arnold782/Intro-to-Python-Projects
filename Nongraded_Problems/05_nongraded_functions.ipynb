{
 "cells": [
  {
   "cell_type": "code",
   "execution_count": 1,
   "metadata": {},
   "outputs": [
    {
     "name": "stdout",
     "output_type": "stream",
     "text": [
      "Low number (> 0): 1\n",
      "High number (> 0): 100\n",
      "6 is a perfect number.\n",
      "28 is a perfect number.\n"
     ]
    }
   ],
   "source": [
    "# P1: Perfect numbers\n",
    "def get_perfect_num(low_num, high_num=10000):\n",
    "    for num in range(low_num, high_num+1):\n",
    "        sum_value = 0\n",
    "        for idx in range(1, num):\n",
    "            if num % idx == 0:\n",
    "                sum_value += idx\n",
    "        if sum_value == num:\n",
    "            print(num, 'is a perfect number.')\n",
    "\n",
    "# Test code\n",
    "low_num = int(input('Low number (> 0): '))\n",
    "high_num = int(input('High number (> 0): '))\n",
    "get_perfect_num(low_num, high_num)"
   ]
  },
  {
   "cell_type": "code",
   "execution_count": 2,
   "metadata": {},
   "outputs": [
    {
     "name": "stdout",
     "output_type": "stream",
     "text": [
      "number: 212\n",
      "212 is a palindromic number.\n"
     ]
    }
   ],
   "source": [
    "# P2: Palindromic number\n",
    "def is_palind_num(num):\n",
    "    if num < 0:\n",
    "        return False\n",
    "    if num < 10:\n",
    "        return True\n",
    "    if num % 10 == 0:\n",
    "        return False\n",
    "    \n",
    "    orig_num = num\n",
    "    rev_num = 0\n",
    "    while num > 0:\n",
    "        rev_num = rev_num * 10 + num % 10\n",
    "        num = num // 10 \n",
    "    return orig_num == rev_num\n",
    "    \n",
    "# Test code\n",
    "num = int(input('number: '))\n",
    "if is_palind_num(num):\n",
    "    print(num, 'is a palindromic number.')\n",
    "else:\n",
    "    print(num, 'is not a palindromic number.')"
   ]
  },
  {
   "cell_type": "code",
   "execution_count": 6,
   "metadata": {},
   "outputs": [
    {
     "data": {
      "text/plain": [
       "['In',\n",
       " 'Out',\n",
       " '_',\n",
       " '__',\n",
       " '___',\n",
       " '__builtin__',\n",
       " '__builtins__',\n",
       " '__doc__',\n",
       " '__loader__',\n",
       " '__name__',\n",
       " '__package__',\n",
       " '__spec__',\n",
       " '_dh',\n",
       " '_i',\n",
       " '_i1',\n",
       " '_i2',\n",
       " '_i3',\n",
       " '_i4',\n",
       " '_i5',\n",
       " '_i6',\n",
       " '_ih',\n",
       " '_ii',\n",
       " '_iii',\n",
       " '_oh',\n",
       " 'acos',\n",
       " 'acosh',\n",
       " 'asin',\n",
       " 'asinh',\n",
       " 'atan',\n",
       " 'atan2',\n",
       " 'atanh',\n",
       " 'cbrt',\n",
       " 'ceil',\n",
       " 'comb',\n",
       " 'copysign',\n",
       " 'cos',\n",
       " 'cosh',\n",
       " 'degrees',\n",
       " 'dist',\n",
       " 'e',\n",
       " 'erf',\n",
       " 'erfc',\n",
       " 'exit',\n",
       " 'exp',\n",
       " 'exp2',\n",
       " 'expm1',\n",
       " 'fabs',\n",
       " 'factorial',\n",
       " 'floor',\n",
       " 'fmod',\n",
       " 'frexp',\n",
       " 'fsum',\n",
       " 'gamma',\n",
       " 'gcd',\n",
       " 'get_ipython',\n",
       " 'hypot',\n",
       " 'inf',\n",
       " 'isclose',\n",
       " 'isfinite',\n",
       " 'isinf',\n",
       " 'isnan',\n",
       " 'isqrt',\n",
       " 'lcm',\n",
       " 'ldexp',\n",
       " 'lgamma',\n",
       " 'log',\n",
       " 'log10',\n",
       " 'log1p',\n",
       " 'log2',\n",
       " 'math',\n",
       " 'modf',\n",
       " 'nan',\n",
       " 'nextafter',\n",
       " 'open',\n",
       " 'perm',\n",
       " 'pi',\n",
       " 'pow',\n",
       " 'prod',\n",
       " 'quit',\n",
       " 'radians',\n",
       " 'remainder',\n",
       " 'sin',\n",
       " 'sinh',\n",
       " 'sqrt',\n",
       " 'tan',\n",
       " 'tanh',\n",
       " 'tau',\n",
       " 'trunc',\n",
       " 'ulp']"
      ]
     },
     "execution_count": 6,
     "metadata": {},
     "output_type": "execute_result"
    }
   ],
   "source": [
    "from math import *"
   ]
  }
 ],
 "metadata": {
  "kernelspec": {
   "display_name": "Python 3 (ipykernel)",
   "language": "python",
   "name": "python3"
  },
  "language_info": {
   "codemirror_mode": {
    "name": "ipython",
    "version": 3
   },
   "file_extension": ".py",
   "mimetype": "text/x-python",
   "name": "python",
   "nbconvert_exporter": "python",
   "pygments_lexer": "ipython3",
   "version": "3.11.5"
  }
 },
 "nbformat": 4,
 "nbformat_minor": 4
}
