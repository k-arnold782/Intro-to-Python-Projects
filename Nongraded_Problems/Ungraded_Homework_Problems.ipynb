{
 "cells": [
  {
   "cell_type": "markdown",
   "id": "2a26931c",
   "metadata": {},
   "source": [
    "# Ungraded Homework Problems"
   ]
  },
  {
   "cell_type": "markdown",
   "id": "97ab637b",
   "metadata": {},
   "source": [
    "## Lecture 1 - Introduction"
   ]
  },
  {
   "cell_type": "code",
   "execution_count": null,
   "id": "44b3f537",
   "metadata": {},
   "outputs": [],
   "source": [
    "##Problem 1 - Install Python3 = done"
   ]
  },
  {
   "cell_type": "code",
   "execution_count": 4,
   "id": "267db271",
   "metadata": {},
   "outputs": [
    {
     "name": "stdout",
     "output_type": "stream",
     "text": [
      "1\n",
      "3\n",
      "5\n",
      "7\n",
      "9\n"
     ]
    }
   ],
   "source": [
    "##Problem 2\n",
    "print(1,3,5,7,9,sep = '\\n')"
   ]
  },
  {
   "cell_type": "markdown",
   "id": "6d018208",
   "metadata": {},
   "source": [
    "## Lecture 2 - Values, Variables, and Expressions"
   ]
  },
  {
   "cell_type": "code",
   "execution_count": 1,
   "id": "1dd0f140",
   "metadata": {},
   "outputs": [
    {
     "name": "stdout",
     "output_type": "stream",
     "text": [
      "Please enter the radius: 4.3\n",
      "Sphere volume: 333.0378615066666\n"
     ]
    }
   ],
   "source": [
    "##Problem 1\n",
    "r = float(input('Please enter the radius: '))\n",
    "pi = 3.14159\n",
    "print('Sphere volume:',4/3*pi*r**3)"
   ]
  },
  {
   "cell_type": "code",
   "execution_count": 5,
   "id": "41f64fb2",
   "metadata": {},
   "outputs": [
    {
     "name": "stdout",
     "output_type": "stream",
     "text": [
      "Please enter the number of books: 8\n",
      "Total cost: $116.57.\n"
     ]
    }
   ],
   "source": [
    "##Problem 2\n",
    "n = int(input('Please enter the number of books: '))\n",
    "cost = n*66.95*0.2+3.5+0.85*(n-1)\n",
    "print('Total cost: $',round(cost,2),'.',sep='')"
   ]
  },
  {
   "cell_type": "markdown",
   "id": "a498917f",
   "metadata": {},
   "source": [
    "## Lecture 3 - Conditional Execution"
   ]
  },
  {
   "cell_type": "code",
   "execution_count": 9,
   "id": "27c987d0",
   "metadata": {},
   "outputs": [
    {
     "name": "stdout",
     "output_type": "stream",
     "text": [
      "Please enter an integer value between 0 and 10: -10\n",
      "Negative\n"
     ]
    }
   ],
   "source": [
    "##Problem 1\n",
    "num = int(input('Please enter an integer value between 0 and 10: '))\n",
    "if num<0:\n",
    "    print('Negative')\n",
    "elif num >10:\n",
    "    print('Out of range')\n",
    "else: print('OK')"
   ]
  },
  {
   "cell_type": "code",
   "execution_count": 11,
   "id": "e53d289d",
   "metadata": {},
   "outputs": [
    {
     "name": "stdout",
     "output_type": "stream",
     "text": [
      "Please provide four integer values.\n",
      "Enter the first integer: 3\n",
      "Enter the second integer: 5\n",
      "Enter the third integer: 1\n",
      "Enter the last integer: 5\n",
      "Max: 5\n",
      "Min: 1\n"
     ]
    }
   ],
   "source": [
    "##Problem 2 (don't use 'max' or 'min' functions)\n",
    "\n",
    "print('Please provide four integer values.')\n",
    "num1 = int(input('Enter the first integer: '))\n",
    "num2 = int(input('Enter the second integer: '))\n",
    "num3 = int(input('Enter the third integer: '))\n",
    "num4 = int(input('Enter the last integer: '))\n",
    "\n",
    "#Printing the maximum value\n",
    "if num1>=num2 and num1>=num3 and num1>=num4:\n",
    "    print('Max:',num1)\n",
    "elif num2>=num3 and num2>=num4:\n",
    "    print('Max:',num2)\n",
    "elif num3>=num4:\n",
    "    print('Max:',num3)\n",
    "else: print('Max:',num4)\n",
    "\n",
    "#Printing the minimum value\n",
    "if num1<=num2 and num1<=num3 and num1<=num4:\n",
    "    print('Min:',num1)\n",
    "elif num2<=num3 and num2<=num4:\n",
    "    print('Min:',num2)\n",
    "elif num3<=num4:\n",
    "    print('Min:',num3)\n",
    "else: print('Min:',num4)"
   ]
  },
  {
   "cell_type": "markdown",
   "id": "43c8aa7a",
   "metadata": {},
   "source": [
    "## Lecture 4 - Iterations"
   ]
  },
  {
   "cell_type": "code",
   "execution_count": 13,
   "id": "1be96090",
   "metadata": {},
   "outputs": [
    {
     "name": "stdout",
     "output_type": "stream",
     "text": [
      "+-+-+-+-+-+-+-+-+-+-+-+-+-+-+-+-+-+-+-+-\n"
     ]
    }
   ],
   "source": [
    "##Problem 1\n",
    "\n",
    "#Use a while loop to replace the for loop\n",
    "#for a in range(-20,20,2):\n",
    "#    print('+-', end='')\n",
    "#print()\n",
    "\n",
    "#While loop\n",
    "a = -20\n",
    "while a<20:\n",
    "    print('+-', end='')\n",
    "    a += 2\n",
    "print()"
   ]
  },
  {
   "cell_type": "code",
   "execution_count": 4,
   "id": "e8c99181",
   "metadata": {},
   "outputs": [
    {
     "name": "stdout",
     "output_type": "stream",
     "text": [
      "3\n",
      "a = 4\n",
      "4\n",
      "a = 3\n",
      "30\n",
      "45\n",
      "a = 2\n",
      "8\n",
      "a = 1\n",
      "30\n",
      "9\n",
      "a = 0\n"
     ]
    }
   ],
   "source": [
    "##Problem 2 - Part 1\n",
    "\n",
    "#Remove the continue statement and have it behave identically\n",
    "a = 5\n",
    "while a>0:\n",
    "    b = int(input())\n",
    "    if b != 30:\n",
    "        a -= 1\n",
    "        print('a =', a)"
   ]
  },
  {
   "cell_type": "code",
   "execution_count": 6,
   "id": "fa2b8ae8",
   "metadata": {},
   "outputs": [
    {
     "name": "stdout",
     "output_type": "stream",
     "text": [
      "9\n",
      "a = 4\n",
      "30\n",
      "5\n",
      "a = 3\n",
      "-4\n"
     ]
    }
   ],
   "source": [
    "##Problem 2 - Part 2\n",
    "\n",
    "#Exit the while loop immediately if b is negative\n",
    "a = 5\n",
    "while a>0:\n",
    "    b = int(input())\n",
    "    if b<0:\n",
    "        break\n",
    "    if b != 30:\n",
    "        a -= 1\n",
    "        print('a =', a)"
   ]
  },
  {
   "cell_type": "code",
   "execution_count": 3,
   "id": "8eac1a0f",
   "metadata": {},
   "outputs": [
    {
     "name": "stdout",
     "output_type": "stream",
     "text": [
      "Please enter the number of rows: 3\n",
      " * * * \n",
      "  * * \n",
      "   * \n",
      "    \n"
     ]
    }
   ],
   "source": [
    "##Problem 3\n",
    "\n",
    "#Inverse pyramid\n",
    "height = int(input('Please enter the number of rows: '))\n",
    "for row in range(height+1):\n",
    "    print(' '*row,'* '*(height-row))\n",
    "    "
   ]
  },
  {
   "cell_type": "code",
   "execution_count": 8,
   "id": "81c2e245",
   "metadata": {},
   "outputs": [
    {
     "name": "stdout",
     "output_type": "stream",
     "text": [
      "Please enter the number of rows: 5\n",
      "     *\n",
      "    ***\n",
      "   *****\n",
      "  *******\n",
      " *********\n"
     ]
    }
   ],
   "source": [
    "#Upright Pyramid using one loop\n",
    "\n",
    "height = int(input('Please enter the number of rows: '))\n",
    "row = 0\n",
    "for row in range(height):\n",
    "    print(' '*(height-row),'*'*(row*2+1),sep='')\n"
   ]
  },
  {
   "cell_type": "markdown",
   "id": "b7d8c23e",
   "metadata": {},
   "source": [
    "## Lecture 5 - Functions"
   ]
  },
  {
   "cell_type": "code",
   "execution_count": 21,
   "id": "66fe3c16",
   "metadata": {},
   "outputs": [
    {
     "name": "stdout",
     "output_type": "stream",
     "text": [
      "6 28 496 8128 "
     ]
    }
   ],
   "source": [
    "##Problem 1\n",
    "\n",
    "def perfect(low,high=10000): #default for high is 10000\n",
    "    '''\n",
    "    Print all the perfect numbers within a range (min and max provided by user).\n",
    "    A perfect number is a positive integer that is equal to the sum of its positive divisors,\n",
    "    excluding the number itself.\n",
    "    '''\n",
    "    for n in range(low,high+1):\n",
    "        divisor_sum = 0     #Resets divisor sum for each number between low and high\n",
    "        for i in range(1,n):\n",
    "            if n%i ==0:\n",
    "                divisor_sum += i #Adds the current divisor to the current divisor sum\n",
    "        if n == divisor_sum:\n",
    "            print(n,end=' ')\n",
    "\n",
    "perfect(1,8200)"
   ]
  },
  {
   "cell_type": "code",
   "execution_count": 24,
   "id": "b2d9a457",
   "metadata": {},
   "outputs": [
    {
     "name": "stdout",
     "output_type": "stream",
     "text": [
      "Check to see if your number is a palindrome.\n",
      "Please input your number: 812\n",
      "812 is not a palindrome.\n"
     ]
    }
   ],
   "source": [
    "##Problem 2\n",
    "\n",
    "def is_palindrome(num):\n",
    "    '''\n",
    "    Check to see if the number provided is a palindrome.\n",
    "    A palindrome is a number that is the same forwards and backwards.\n",
    "    '''\n",
    "    if num < 0:\n",
    "        return False\n",
    "    if num < 10:\n",
    "        return True\n",
    "    if num % 10 == 0:\n",
    "        return False\n",
    "    original = num\n",
    "    reverse = 0\n",
    "    while num > 0:\n",
    "        reverse = (reverse*10)+(num%10)\n",
    "        num = num//10\n",
    "    return original == reverse\n",
    "\n",
    "\n",
    "print('Check to see if your number is a palindrome.')\n",
    "num = int(input('Please input your number: '))\n",
    "if is_palindrome(num):\n",
    "    print(num, 'is a palindrome.')\n",
    "else:\n",
    "    print(num, 'is not a palindrome.')"
   ]
  },
  {
   "cell_type": "markdown",
   "id": "94c40912",
   "metadata": {},
   "source": [
    "## Lecture 6 - Standard Library"
   ]
  },
  {
   "cell_type": "code",
   "execution_count": 7,
   "id": "7801b4ed",
   "metadata": {},
   "outputs": [
    {
     "name": "stdout",
     "output_type": "stream",
     "text": [
      "Length of side 1: 4\n",
      "Length of side 2: 6.4\n",
      "Length of Hypotenuse = 7.55\n"
     ]
    }
   ],
   "source": [
    "##Problem 1 - Hypotenuse Length\n",
    "from math import sqrt\n",
    "\n",
    "s1 = float(input('Length of side 1: '))\n",
    "s2 = float(input('Length of side 2: '))\n",
    "\n",
    "hypotenuse = sqrt(s1**2 + s2**2)\n",
    "\n",
    "print('Length of Hypotenuse =',round(hypotenuse,2))"
   ]
  },
  {
   "cell_type": "code",
   "execution_count": 10,
   "id": "b1d344f4",
   "metadata": {},
   "outputs": [
    {
     "name": "stdout",
     "output_type": "stream",
     "text": [
      "Guess the integer between 1 and 100: 0\n",
      "Number must be between 1 and 100.\n",
      "Try again: 40\n",
      "Too low.\n",
      "Try again: 60\n",
      "You guessed correctly in 3 tries.\n"
     ]
    }
   ],
   "source": [
    "##Problem 2 - Guess the value in the least number of tries\n",
    "from random import randrange\n",
    "\n",
    "def guess_integer():\n",
    "    '''\n",
    "    This function will guess a random integer between 1 and 100.\n",
    "    The user must provide guesses, and the function will provide feedback\n",
    "    until the user guesses the right number.\n",
    "    The function will then tell the user how many tries it took them to guess the right number.\n",
    "    '''\n",
    "    random_number = randrange(1,101)\n",
    "    guess = int(input('Guess the integer between 1 and 100: '))\n",
    "    count = 0\n",
    "    while guess != random_number:\n",
    "        if guess < 1 or guess > 100:\n",
    "            guess = int(input('Number must be between 1 and 100.\\nTry again: '))\n",
    "            count += 1\n",
    "        elif guess < random_number:\n",
    "            guess = int(input('Too low.\\nTry again: '))\n",
    "            count += 1\n",
    "        else:\n",
    "            guess = int(input('Too high.\\nTry again: '))\n",
    "            count += 1\n",
    "    count += 1\n",
    "    print('You guessed correctly in',count,'tries.')\n",
    "\n",
    "guess_integer()\n",
    "    "
   ]
  },
  {
   "cell_type": "markdown",
   "id": "7e64ed39",
   "metadata": {},
   "source": [
    "## Lecture 7 - More on Functions"
   ]
  },
  {
   "cell_type": "code",
   "execution_count": 16,
   "id": "de7a22ce",
   "metadata": {},
   "outputs": [
    {
     "data": {
      "text/plain": [
       "False"
      ]
     },
     "execution_count": 16,
     "metadata": {},
     "output_type": "execute_result"
    }
   ],
   "source": [
    "##Problem 1\n",
    "##An integer, a, is a power of b if it is divisible by b and a/b is a power of b.\n",
    "##Please write a recursive function called is_power\n",
    "##that takes parameters a and b and returns True if a is a power of b.\n",
    "##Assume a and b are positive integers\n",
    "\n",
    "def is_power(a,b):\n",
    "    '''\n",
    "    Determines if the first integer provided is a power of the second integer.\n",
    "    '''\n",
    "    if a==1:\n",
    "        return True\n",
    "    if b==1:\n",
    "        return False\n",
    "    if a%b==0:\n",
    "        return is_power(a/b,b)\n",
    "    return False\n",
    "\n"
   ]
  },
  {
   "cell_type": "code",
   "execution_count": 24,
   "id": "2334f738",
   "metadata": {},
   "outputs": [
    {
     "name": "stdout",
     "output_type": "stream",
     "text": [
      "None\n",
      "509\n"
     ]
    }
   ],
   "source": [
    "##Problem 2\n",
    "##Ackermann function\n",
    "\n",
    "def ackermann(m,n):\n",
    "    '''\n",
    "    Ackermann function is a function of two parameters whose value grows very fast\n",
    "    using conditional recursion statements.\n",
    "    '''\n",
    "    if m==0:\n",
    "        return n+1\n",
    "    if m>0 and n==0:\n",
    "        return ackermann(m-1,1)\n",
    "    if m>0 and n>0:\n",
    "        return ackermann(m-1,ackermann(m,n-1))\n",
    "\n",
    "print(ackermann(3,4))\n",
    "print(ackermann(3,6))"
   ]
  },
  {
   "cell_type": "code",
   "execution_count": 20,
   "id": "0fa8ba0d",
   "metadata": {},
   "outputs": [
    {
     "name": "stdout",
     "output_type": "stream",
     "text": [
      "10\n",
      "10\n"
     ]
    }
   ],
   "source": [
    "def evaluate(f,x):\n",
    "    return f(x)\n",
    "\n",
    "\n",
    "def my_function(x):\n",
    "    result = x**2 + 1\n",
    "    return result\n",
    "\n",
    "print(evaluate(lambda x: x**2+1, 3))\n",
    "print(my_function(3))"
   ]
  },
  {
   "cell_type": "markdown",
   "id": "492dd295",
   "metadata": {},
   "source": [
    "## Lecture 8 - Strings"
   ]
  },
  {
   "cell_type": "code",
   "execution_count": 7,
   "id": "ec04bc14",
   "metadata": {},
   "outputs": [
    {
     "data": {
      "text/plain": [
       "2"
      ]
     },
     "execution_count": 7,
     "metadata": {},
     "output_type": "execute_result"
    }
   ],
   "source": [
    "## Problem 1\n",
    "#Please write a function to count the occurrences of a substring in a string.\n",
    "#The function should take two strings as input, str1 and str2 \n",
    "#(assumed str2 is shorter than str1), and returns how many times str2 appears in str1. \n",
    "#Please consider the case that substrings may partially overlap. For example,\n",
    "#§ If str1 = 'banana' and 'str2' = 'ana', the function should return 2.\n",
    "\n",
    "def sub_count(str1,str2):\n",
    "    '''\n",
    "    Counts how many times a substring occurs within a string, including any overlapping substrings.\n",
    "    '''\n",
    "    x = 0\n",
    "    count = 0\n",
    "    while x != -1:\n",
    "        x = str1.find(str2)     ##finds the first index where the substring is found\n",
    "        str1 = str1[(x+1):]     ##remove everything in str1 up to but not including the first letter of substring\n",
    "        x = str1.find(str2)     ##check again to see if there's another substring found. If there's not, while loop stops\n",
    "        count += 1\n",
    "    return count\n",
    "\n",
    "sub_count('banana','ana')"
   ]
  },
  {
   "cell_type": "code",
   "execution_count": 17,
   "id": "afbfa6cd",
   "metadata": {},
   "outputs": [
    {
     "data": {
      "text/plain": [
       "'favopo'"
      ]
     },
     "execution_count": 17,
     "metadata": {},
     "output_type": "execute_result"
    }
   ],
   "source": [
    "## Problem 2\n",
    "#Please write a function to remove unwanted characters from a given string. \n",
    "#The function should take two strings as input, str1 and str2, \n",
    "#remove all the characters from str1 if those characters are also present in str2, \n",
    "#and returns the string obtained from str1 after deletion of unwanted characters.\n",
    "\n",
    "def unique_characters(str1,str2):\n",
    "    '''\n",
    "    Removes all characters that are in both strings.\n",
    "    '''\n",
    "    new_str = ''\n",
    "    for char in str1:\n",
    "        if str2.find(char) == -1:  ##if character in string 1 is not found in string 2,\n",
    "            new_str += char        ##then it adds the character to the new string\n",
    "    return new_str\n",
    "\n",
    "unwanted_removed('favorite person','bird nest')"
   ]
  },
  {
   "cell_type": "markdown",
   "id": "c1be6380",
   "metadata": {},
   "source": [
    "## Lecture 9 - Lists"
   ]
  },
  {
   "cell_type": "code",
   "execution_count": 25,
   "id": "38647457",
   "metadata": {},
   "outputs": [
    {
     "name": "stdout",
     "output_type": "stream",
     "text": [
      "[1, 3, 6]\n",
      "[1, 7, 15, 18, 23]\n"
     ]
    }
   ],
   "source": [
    "## Problem 1\n",
    "#Please write a function that takes a list of numbers as input \n",
    "#and returns a new list representing the cumulative sum; \n",
    "#that is, a new list where the element with index i is the \n",
    "#sum of the first i + 1 elements from the original list. \n",
    "#For example:\n",
    "#§ If lst = [1, 2, 3], then function should return [1, 3, 6].\n",
    "#§ If lst = [1, 6, 8, 3, 5], then function should return [1, 7, 15, 18, 23].\n",
    "\n",
    "def cumulative_sum_list(lst):\n",
    "    '''\n",
    "    Takes a list and returns a new list with the cumulative sum of each index of the original list.\n",
    "    '''\n",
    "    new_lst = []\n",
    "    for i in range(1,len(lst)+1):\n",
    "        new_lst.append(sum(lst[:i]))   ## Adds a number to the new list that is the sum of all numbers\n",
    "    return new_lst                     ## in the original list up to the current index.\n",
    "\n",
    "print(cumulative_sum_list([1,2,3]))\n",
    "print(cumulative_sum_list([1,6,8,3,5]))"
   ]
  },
  {
   "cell_type": "code",
   "execution_count": 31,
   "id": "fcf9bdfe",
   "metadata": {},
   "outputs": [
    {
     "name": "stdout",
     "output_type": "stream",
     "text": [
      "False\n",
      "True\n"
     ]
    }
   ],
   "source": [
    "## Problem 2\n",
    "#Please write a function that takes a list as input and \n",
    "#returns True if there is any element that appears more than once. \n",
    "#It returns False if there are no repeating elements in the list. \n",
    "#It should not modify the original list.\n",
    "\n",
    "\n",
    "def repeat_elements(lst):\n",
    "    '''\n",
    "    Evaluates if all elements in a list are unique.\n",
    "    Returns False if there are any repeating elements.\n",
    "    '''\n",
    "    for x in lst:\n",
    "        if lst.count(x) > 1:  ##if at any point an element appears more than once,\n",
    "            return True       ##it will return True...\n",
    "    return False              ##otherwise it returns false\n",
    "print(repeat_elements([2,3,4,5,6]))\n",
    "print(repeat_elements([2,4,3,2]))"
   ]
  },
  {
   "cell_type": "markdown",
   "id": "f0a72201",
   "metadata": {},
   "source": [
    "## Lecture 10 - Tuples and Sets"
   ]
  },
  {
   "cell_type": "code",
   "execution_count": 66,
   "id": "51b9188c",
   "metadata": {},
   "outputs": [
    {
     "data": {
      "text/plain": [
       "[(1, 2, 100), (4, 5, 100), (10, 20, 100)]"
      ]
     },
     "execution_count": 66,
     "metadata": {},
     "output_type": "execute_result"
    }
   ],
   "source": [
    "## Problem 1\n",
    "#Please write a function that takes as input an integer and a list of tuples. \n",
    "#Each element in the list is a non-empty tuple. \n",
    "#The function needs to replace the last element in each tuple by the given integer \n",
    "#and return the list after modification (you can return a new list).\n",
    "#§For example, if the input integer is 100 and the input list is [(1, 2, 3), (4, 5, 6), (10, 20, 30)], \n",
    "#then the function should return a list [(1, 2, 100), (4, 5, 100), (10, 20, 100)].\n",
    "\n",
    "\n",
    "def replace_last_element(integer, tpl_lst):\n",
    "    '''\n",
    "    Replace the last element in each tuple by the given integer\n",
    "    '''\n",
    "    return [tpl[:-1] + (integer,) for tpl in tpl_lst]\n",
    "    # For each tuple in the list, drop the last value in the tuple and \n",
    "    # add the provided integer(in tuple format) to the end\n",
    "\n",
    "replace_last_element(100,[(1,2,3),(4,5,6),(10,20,30)])"
   ]
  },
  {
   "cell_type": "code",
   "execution_count": 74,
   "id": "44f323bc",
   "metadata": {},
   "outputs": [
    {
     "name": "stdout",
     "output_type": "stream",
     "text": [
      "(30.0, 3.5)\n",
      "(1, 0)\n"
     ]
    }
   ],
   "source": [
    "## Problem 2\n",
    "# Please write a function that takes as input any number of floating-point arguments; \n",
    "# it computes and returns the product and the average of all the input floating-point arguments.\n",
    "# For example, if the floating-point arguments are 2.5, 2, and 6.0, \n",
    "#the function should return 30.0 and 3.5 for the product and average values, respectively.\n",
    "# The function should return 1.0 and 0.0 for the product and average values respectively \n",
    "# if the caller passes no arguments.\n",
    "\n",
    "def product_average(*args):\n",
    "    '''\n",
    "    Takes any number of floating point numbers and returns the product and average, respectively.\n",
    "    If no arguments are given, it returns 1 and 0 by default.\n",
    "    '''\n",
    "    product = 1\n",
    "    for arg in args:\n",
    "        product *= arg\n",
    "    if len(args) == 0:\n",
    "        average = 0\n",
    "    else: average = sum(args)/len(args)\n",
    "    return product, average\n",
    "\n",
    "print(product_average(2.5,2,6.0))\n",
    "print(product_average())"
   ]
  },
  {
   "cell_type": "code",
   "execution_count": 101,
   "id": "1481c284",
   "metadata": {},
   "outputs": [
    {
     "name": "stdout",
     "output_type": "stream",
     "text": [
      "True\n",
      "False\n"
     ]
    }
   ],
   "source": [
    "## Problem 3\n",
    "# Please write a function that takes a list as input and \n",
    "# returns True if there is any element that appears more than once. \n",
    "# It returns False if there are no repeating elements in the list. \n",
    "# It should not modify the original list. Can you solve this problem by using sets?\n",
    "\n",
    "def any_repeats(lst):\n",
    "    return len(set(lst)) < len(lst) # if the length of the list as a set < length of the original list, \n",
    "                                    # then there are duplicates.\n",
    "\n",
    "print(any_repeats([4,3,'orange',3]))\n",
    "print(any_repeats([4,3,'orange']))\n"
   ]
  },
  {
   "cell_type": "markdown",
   "id": "8dd1afa5",
   "metadata": {},
   "source": [
    "## Lecture 11 - Dictionaries"
   ]
  },
  {
   "cell_type": "code",
   "execution_count": 103,
   "id": "1973b7ae",
   "metadata": {},
   "outputs": [
    {
     "name": "stdout",
     "output_type": "stream",
     "text": [
      "False\n",
      "True\n"
     ]
    }
   ],
   "source": [
    "## Problem 1\n",
    "# Please use a Python dictionary to write a function that takes a list or a tuple as input \n",
    "# and returns True if there is any element that appears more than once. \n",
    "# It returns False if there are no repeating elements in the list/tuple.\n",
    "\n",
    "def any_repeats(lst):\n",
    "    '''\n",
    "    Taking a list or tuple as input, this function uses a Python dictionary\n",
    "    to determine if there are any repeated elements in that list or tuple.\n",
    "    '''\n",
    "    dct = {}\n",
    "    count = 0              #Creating 'count' for inputing values into dictionary for each key created\n",
    "    for item in lst:\n",
    "        if item in dct:    #For each item in list, check to see if it's already in the dictionary\n",
    "            return True    #If it is, return True (For loop stops)\n",
    "        count += 1         #Making a new value to input into dictionary\n",
    "        dct[item] = count  #Inputing the new key and value into existing dictionary\n",
    "    return False           #If loop doesn't stop and code reaches this line, there are no repeats.\n",
    "\n",
    "print(any_repeats([3,4,5,6,7,8,'mary']))\n",
    "print(any_repeats((6,3,4,4)))"
   ]
  },
  {
   "cell_type": "code",
   "execution_count": 143,
   "id": "2a137285",
   "metadata": {},
   "outputs": [
    {
     "name": "stdout",
     "output_type": "stream",
     "text": [
      "A  B  C  \n",
      "2  10 3  \n",
      "1  2  9  \n",
      "8  0  26 \n"
     ]
    }
   ],
   "source": [
    "## Problem 2\n",
    "# Suppose a dictionary uses strings as keys and lists as values. \n",
    "# The elements in the lists are integers. \n",
    "# Please write a program to print the dictionary in a tabular format as follows.\n",
    "# For example, if the input dictionary is {'A' : [2,1,8], 'B' : [10,2,0], 'C' : [3,9,26]}, \n",
    "# an example output can be:\n",
    "# A  B  C\n",
    "# 2  10 3\n",
    "# 1  2  9\n",
    "# 8  0  26\n",
    "\n",
    "\n",
    "def tabular_dict(**dct):\n",
    "    '''\n",
    "    Prints a dictionary into a tabular format.\n",
    "    Works for dictionaries that have lists as values.\n",
    "    Prints keys on first row and prints all values for that key beneath it.\n",
    "    Will only print as many subsequent rows as the minimum list length for values in dictionary.\n",
    "    '''\n",
    "    dct_lst = [[key] + value for key,value in dct.items()]   #[key] to convert from string to list object\n",
    "    #Converts each key:value(list) pair in dictionary into a list and combine into a list of lists.\n",
    "    for row in zip(*dct_lst):                  #Zips all first/second/etc elements together into a list of tuples\n",
    "        for item in row:                       #For each tuple in the list\n",
    "            print(str(item).ljust(3), end='')  #Prints each element left justified with 3 places\n",
    "        print()                                #Makes new line after all elements in that tuple is printed\n",
    "\n",
    "        \n",
    "dct = {'A' : [2,1,8], 'B' : [10,2,0], 'C' : [3,9,26,90]}\n",
    "tabular_dict(**dct)"
   ]
  },
  {
   "cell_type": "markdown",
   "id": "7674aedd",
   "metadata": {},
   "source": [
    "## Lecture 12 - Files"
   ]
  },
  {
   "cell_type": "code",
   "execution_count": null,
   "id": "2f53db7e",
   "metadata": {},
   "outputs": [],
   "source": []
  },
  {
   "cell_type": "markdown",
   "id": "02e44328",
   "metadata": {},
   "source": [
    "## Lecture 13 - Exception Handling"
   ]
  },
  {
   "cell_type": "markdown",
   "id": "6681eb3b",
   "metadata": {},
   "source": [
    "## Lecture 14 - Classes"
   ]
  },
  {
   "cell_type": "markdown",
   "id": "f36a8d84",
   "metadata": {},
   "source": [
    "## Lecture 15 - Class Inheritance"
   ]
  },
  {
   "cell_type": "markdown",
   "id": "d968ccb3",
   "metadata": {},
   "source": [
    "## Lecture 16 - Generators"
   ]
  },
  {
   "cell_type": "code",
   "execution_count": 10,
   "id": "333f8169",
   "metadata": {},
   "outputs": [
    {
     "name": "stdout",
     "output_type": "stream",
     "text": [
      "1 2 3 4 6 8 12 24 \n",
      "1 2 4 5 8 10 16 20 25 40 50 80 100 200 400 "
     ]
    }
   ],
   "source": [
    "#P1. Please write a generator function to produce all the factors of a given integer.\n",
    "\n",
    "def factors(num):\n",
    "    '''\n",
    "    Makes a generator object of all factors in the provided number.\n",
    "    '''\n",
    "    for n in range(1,num+1):\n",
    "        if num % n == 0:\n",
    "            yield n\n",
    "\n",
    "for value in factors(24):\n",
    "    print(value, end=' ')\n",
    "\n",
    "print()\n",
    "\n",
    "for value in factors(400):\n",
    "    print(value, end=' ')"
   ]
  },
  {
   "cell_type": "code",
   "execution_count": 11,
   "id": "0cc3c2f4",
   "metadata": {},
   "outputs": [
    {
     "name": "stdout",
     "output_type": "stream",
     "text": [
      "0 1 1 2 3 5 8 13 21 34 \n",
      "0 1 1 2 3 5 8 13 21 34 55 89 144 233 377 610 987 1597 2584 4181 6765 10946 17711 28657 46368 "
     ]
    }
   ],
   "source": [
    "#P2. Please write a generator function to produce a sequence of Fibonacci numbers \n",
    "#up to a given value indicating the n-th Fibonacci number (Fn).\n",
    "\n",
    "\n",
    "def gen_fibonacci(Fn):\n",
    "    '''\n",
    "    Makes a generator object of a Fibonacci sequence up to the n-th Fibonacci number.\n",
    "    '''\n",
    "    current_num, next_num = 0, 1\n",
    "    for num in range(Fn):\n",
    "        yield current_num\n",
    "        current_num, next_num = next_num, current_num+next_num\n",
    "\n",
    "for number in gen_fibonacci(10):\n",
    "    print(number, end=' ')\n",
    "    \n",
    "print()\n",
    "\n",
    "for number in gen_fibonacci(25):\n",
    "    print(number, end=' ')"
   ]
  },
  {
   "cell_type": "markdown",
   "id": "a30ab9ca",
   "metadata": {},
   "source": [
    "## Lecture 17 - Iterators"
   ]
  },
  {
   "cell_type": "code",
   "execution_count": null,
   "id": "be978c72",
   "metadata": {},
   "outputs": [],
   "source": []
  },
  {
   "cell_type": "markdown",
   "id": "fabfe2d6",
   "metadata": {},
   "source": [
    "## Lecture 18 - Decorators"
   ]
  },
  {
   "cell_type": "markdown",
   "id": "2f4b2373",
   "metadata": {},
   "source": [
    "## Lecture 19 - Algorithm Quality"
   ]
  }
 ],
 "metadata": {
  "kernelspec": {
   "display_name": "Python 3 (ipykernel)",
   "language": "python",
   "name": "python3"
  },
  "language_info": {
   "codemirror_mode": {
    "name": "ipython",
    "version": 3
   },
   "file_extension": ".py",
   "mimetype": "text/x-python",
   "name": "python",
   "nbconvert_exporter": "python",
   "pygments_lexer": "ipython3",
   "version": "3.11.5"
  }
 },
 "nbformat": 4,
 "nbformat_minor": 5
}
