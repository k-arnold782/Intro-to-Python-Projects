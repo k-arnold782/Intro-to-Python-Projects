{
 "cells": [
  {
   "cell_type": "code",
   "execution_count": 1,
   "metadata": {},
   "outputs": [],
   "source": [
    "# P1, Part 1\n",
    "# Crop a random rectangle region from an image\n",
    "from PIL import Image\n",
    "from random import randrange\n",
    "\n",
    "image_name = 'CUAMC.jpg' # please choose your image\n",
    "img = Image.open(image_name)\n",
    "left, upper = randrange(img.width - 1), randrange(img.height - 1)\n",
    "right, lower = randrange(left+1, img.width), randrange(upper+1, img.height)\n",
    "img_crop = img.crop((left, upper, right, lower))\n",
    "img_crop.show()"
   ]
  },
  {
   "cell_type": "code",
   "execution_count": 2,
   "metadata": {},
   "outputs": [],
   "source": [
    "# P1, Part 2\n",
    "# Rotate an image with a random degree\n",
    "image_name = 'CUAMC.jpg' # please choose your image\n",
    "img = Image.open(image_name)\n",
    "rotate_degree = randrange(360)\n",
    "img_rotate = img.rotate(rotate_degree, expand=True)\n",
    "img_rotate.show()"
   ]
  },
  {
   "cell_type": "code",
   "execution_count": 3,
   "metadata": {},
   "outputs": [
    {
     "data": {
      "text/plain": [
       "True"
      ]
     },
     "execution_count": 3,
     "metadata": {},
     "output_type": "execute_result"
    }
   ],
   "source": [
    "# P2\n",
    "# Merge two images horizontally\n",
    "import cv2 as cv\n",
    "\n",
    "image1_name = 'CU_Anschutz.jpeg' # please choose your image\n",
    "image2_name = 'CUAMC.jpg' # please choose your image\n",
    "img1 = cv.imread(image1_name)\n",
    "img2 = cv.imread(image2_name)\n",
    "if img1.shape[0] != img2.shape[0]:\n",
    "    img1_width_scaled = int(img1.shape[1] * (img2.shape[0] / img1.shape[0]))\n",
    "img1_scaled = cv.resize(img1, (img1_width_scaled, img2.shape[0])) # resize the first image\n",
    "img_merge = cv.hconcat([img1_scaled, img2])\n",
    "cv.imwrite(\"CUAMC_hormerge.jpg\", img_merge)"
   ]
  },
  {
   "cell_type": "code",
   "execution_count": null,
   "metadata": {},
   "outputs": [],
   "source": []
  }
 ],
 "metadata": {
  "kernelspec": {
   "display_name": "Python 3 (ipykernel)",
   "language": "python",
   "name": "python3"
  },
  "language_info": {
   "codemirror_mode": {
    "name": "ipython",
    "version": 3
   },
   "file_extension": ".py",
   "mimetype": "text/x-python",
   "name": "python",
   "nbconvert_exporter": "python",
   "pygments_lexer": "ipython3",
   "version": "3.11.5"
  }
 },
 "nbformat": 4,
 "nbformat_minor": 4
}
