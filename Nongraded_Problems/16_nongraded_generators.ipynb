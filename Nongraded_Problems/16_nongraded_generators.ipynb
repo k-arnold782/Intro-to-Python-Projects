{
 "cells": [
  {
   "cell_type": "code",
   "execution_count": 1,
   "metadata": {},
   "outputs": [
    {
     "name": "stdout",
     "output_type": "stream",
     "text": [
      "1 2 4 5 10 20 25 50 100 \n",
      "1 2 4 5 8 10 20 25 40 50 100 125 200 250 500 1000 "
     ]
    }
   ],
   "source": [
    "# P1\n",
    "def gen_factors(n):\n",
    "    for num in range(1, n+1):\n",
    "        if n % num == 0:\n",
    "            yield num\n",
    "\n",
    "            \n",
    "# Test codes\n",
    "for factor in gen_factors(100):\n",
    "    print(factor, end = ' ')\n",
    "print()\n",
    "\n",
    "for factor in gen_factors(1000):\n",
    "    print(factor, end = ' ')"
   ]
  },
  {
   "cell_type": "code",
   "execution_count": 2,
   "metadata": {},
   "outputs": [
    {
     "name": "stdout",
     "output_type": "stream",
     "text": [
      "0 1 1 2 3 5 8 13 21 34 \n",
      "0 1 1 2 3 5 8 13 21 34 55 89 144 233 377 610 987 1597 2584 4181 "
     ]
    }
   ],
   "source": [
    "# P2\n",
    "def gen_fibonacci(n = 10):\n",
    "    current_num, next_num = 0, 1\n",
    "    for _ in range(0, n):\n",
    "        yield current_num\n",
    "        current_num, next_num = (next_num, current_num + next_num)\n",
    "        \n",
    "\n",
    "# Test codes\n",
    "for fib in gen_fibonacci():\n",
    "    print(fib, end = ' ')\n",
    "print()\n",
    "\n",
    "for fib in gen_fibonacci(20):\n",
    "    print(fib, end = ' ')"
   ]
  },
  {
   "cell_type": "code",
   "execution_count": null,
   "metadata": {},
   "outputs": [],
   "source": []
  }
 ],
 "metadata": {
  "kernelspec": {
   "display_name": "Python 3 (ipykernel)",
   "language": "python",
   "name": "python3"
  },
  "language_info": {
   "codemirror_mode": {
    "name": "ipython",
    "version": 3
   },
   "file_extension": ".py",
   "mimetype": "text/x-python",
   "name": "python",
   "nbconvert_exporter": "python",
   "pygments_lexer": "ipython3",
   "version": "3.11.5"
  }
 },
 "nbformat": 4,
 "nbformat_minor": 4
}
