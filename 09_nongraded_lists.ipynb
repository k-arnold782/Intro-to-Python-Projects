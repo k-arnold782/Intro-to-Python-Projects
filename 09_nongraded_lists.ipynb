{
 "cells": [
  {
   "cell_type": "code",
   "execution_count": 1,
   "metadata": {},
   "outputs": [
    {
     "name": "stdout",
     "output_type": "stream",
     "text": [
      "lst = [1, 2, 3]\n",
      "lst_cumsum = [1, 3, 6]\n",
      "---------------------------\n",
      "lst = [1, 6, 8, 3, 5]\n",
      "lst_cumsum = [1, 7, 15, 18, 23]\n"
     ]
    }
   ],
   "source": [
    "# P1\n",
    "def cumsum(lst):\n",
    "    total = 0\n",
    "    res = []\n",
    "    for x in lst:\n",
    "        total += x\n",
    "        res.append(total)\n",
    "    return res\n",
    "\n",
    "lst = [1, 2, 3]\n",
    "print('lst =', lst)\n",
    "print('lst_cumsum =', cumsum(lst))\n",
    "print('---------------------------')\n",
    "lst = [1, 6, 8, 3, 5]\n",
    "print('lst =', lst)\n",
    "print('lst_cumsum =', cumsum(lst))"
   ]
  },
  {
   "cell_type": "code",
   "execution_count": 2,
   "metadata": {},
   "outputs": [
    {
     "name": "stdout",
     "output_type": "stream",
     "text": [
      "lst = [2, 3, 1, 2, 6, 9]\n",
      "has_duplicates = True\n",
      "---------------------------\n",
      "lst = [2, 3, 1, 8, 6, 9]\n",
      "has_duplicates = False\n"
     ]
    }
   ],
   "source": [
    "# P2\n",
    "def has_duplicates(lst):\n",
    "    for item in lst:\n",
    "        if lst.count(item) > 1:\n",
    "            return True\n",
    "    return False\n",
    "\n",
    "lst = [2,3,1,2,6,9]\n",
    "print('lst =', lst)\n",
    "print('has_duplicates =', has_duplicates(lst))\n",
    "print('---------------------------')\n",
    "lst = [2,3,1,8,6,9]\n",
    "print('lst =', lst)\n",
    "print('has_duplicates =', has_duplicates(lst))"
   ]
  },
  {
   "cell_type": "code",
   "execution_count": null,
   "metadata": {},
   "outputs": [],
   "source": []
  }
 ],
 "metadata": {
  "kernelspec": {
   "display_name": "Python 3 (ipykernel)",
   "language": "python",
   "name": "python3"
  },
  "language_info": {
   "codemirror_mode": {
    "name": "ipython",
    "version": 3
   },
   "file_extension": ".py",
   "mimetype": "text/x-python",
   "name": "python",
   "nbconvert_exporter": "python",
   "pygments_lexer": "ipython3",
   "version": "3.11.5"
  }
 },
 "nbformat": 4,
 "nbformat_minor": 4
}
