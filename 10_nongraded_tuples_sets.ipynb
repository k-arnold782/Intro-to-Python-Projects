{
 "cells": [
  {
   "cell_type": "code",
   "execution_count": 1,
   "metadata": {},
   "outputs": [
    {
     "name": "stdout",
     "output_type": "stream",
     "text": [
      "[(1, 2, 100), (4, 5, 100), (10, 20, 100)]\n"
     ]
    }
   ],
   "source": [
    "# P1\n",
    "def modify_list(my_int, lst):\n",
    "    return [tup[:-1] + (my_int,) for tup in lst] # use + to concatenate two tuples \n",
    "\n",
    "integer = 100\n",
    "lst = [(1, 2, 3), (4, 5, 6), (10, 20, 30)]\n",
    "print(modify_list(integer, lst))"
   ]
  },
  {
   "cell_type": "code",
   "execution_count": 2,
   "metadata": {},
   "outputs": [
    {
     "name": "stdout",
     "output_type": "stream",
     "text": [
      "(30.0, 3.5)\n",
      "(1.0, 0.0)\n"
     ]
    }
   ],
   "source": [
    "# P2\n",
    "def prod_avg(*nums):\n",
    "    prod_val = 1.0\n",
    "    sum_val = 0.0 # Initialize sum to zero\n",
    "    count = 0\n",
    "    for num in nums: # Consider each argument passed to the function\n",
    "        prod_val = prod_val * num\n",
    "        sum_val += num # Accumulate their values\n",
    "        count += 1\n",
    "    avg_val = sum_val / count if count > 0 else 0.0\n",
    "    return prod_val, avg_val # Return the product and the average\n",
    "\n",
    "print(prod_avg(2.5, 2, 6.0))\n",
    "print(prod_avg())"
   ]
  },
  {
   "cell_type": "code",
   "execution_count": 3,
   "metadata": {},
   "outputs": [
    {
     "name": "stdout",
     "output_type": "stream",
     "text": [
      "True\n",
      "False\n"
     ]
    }
   ],
   "source": [
    "# P3\n",
    "def has_dup_sets(lst):\n",
    "    return len(set(lst)) < len(lst) # convert the list into a set and then get the length\n",
    "\n",
    "lst = [2,3,1,6,9,2]\n",
    "print(has_dup_sets(lst))\n",
    "\n",
    "lst = [2,3,1,6,9]\n",
    "print(has_dup_sets(lst))"
   ]
  },
  {
   "cell_type": "code",
   "execution_count": null,
   "metadata": {},
   "outputs": [],
   "source": []
  }
 ],
 "metadata": {
  "kernelspec": {
   "display_name": "Python 3 (ipykernel)",
   "language": "python",
   "name": "python3"
  },
  "language_info": {
   "codemirror_mode": {
    "name": "ipython",
    "version": 3
   },
   "file_extension": ".py",
   "mimetype": "text/x-python",
   "name": "python",
   "nbconvert_exporter": "python",
   "pygments_lexer": "ipython3",
   "version": "3.11.5"
  }
 },
 "nbformat": 4,
 "nbformat_minor": 4
}
