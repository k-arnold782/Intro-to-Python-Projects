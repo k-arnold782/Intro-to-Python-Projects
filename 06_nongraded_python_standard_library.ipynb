{
 "cells": [
  {
   "cell_type": "code",
   "execution_count": 1,
   "metadata": {},
   "outputs": [
    {
     "name": "stdout",
     "output_type": "stream",
     "text": [
      "Length of side 1: 2\n",
      "Length of side 2: 3\n",
      "Hypotenuse length:  3.61\n"
     ]
    }
   ],
   "source": [
    "# P1: Compute the length of the hypotenuse of a right triangle triangle \n",
    "import math\n",
    "\n",
    "side1 = float(input('Length of side 1: '))\n",
    "side2 = float(input('Length of side 2: '))\n",
    "\n",
    "hypotenuse_length = math.sqrt(side1**2 + side2**2)\n",
    "print('Hypotenuse length: ', round(hypotenuse_length,2))"
   ]
  },
  {
   "cell_type": "code",
   "execution_count": 2,
   "metadata": {},
   "outputs": [
    {
     "name": "stdout",
     "output_type": "stream",
     "text": [
      "Guess number: 50\n",
      "The guess number is too low.\n",
      "Guess number: 75\n",
      "The guess number is too low.\n",
      "Guess number: 88\n",
      "The guess number is too low.\n",
      "Guess number: 94\n",
      "The guess number is too high.\n",
      "Guess number: 91\n",
      "The guess number is too low.\n",
      "Guess number: 92\n",
      "The guess number is too low.\n",
      "Guess number: 93\n",
      "Find the number:  93\n",
      "How many guesses?  7\n"
     ]
    }
   ],
   "source": [
    "##### P2: Guess game\n",
    "from random import randrange\n",
    "\n",
    "rand_num = randrange(1, 101) \n",
    "guess_num = -1 \n",
    "count = 0 \n",
    "while guess_num != rand_num: \n",
    "    guess_num = int(input('Guess number: ')) \n",
    "    count += 1 \n",
    "    if guess_num == rand_num: \n",
    "        print('Find the number: ', rand_num) \n",
    "        break \n",
    "    elif guess_num < rand_num: \n",
    "        print('The guess number is too low.') \n",
    "    else: \n",
    "        print('The guess number is too high.')\n",
    "\n",
    "print('How many guesses? ', count)"
   ]
  },
  {
   "cell_type": "code",
   "execution_count": null,
   "metadata": {},
   "outputs": [],
   "source": []
  }
 ],
 "metadata": {
  "kernelspec": {
   "display_name": "Python 3 (ipykernel)",
   "language": "python",
   "name": "python3"
  },
  "language_info": {
   "codemirror_mode": {
    "name": "ipython",
    "version": 3
   },
   "file_extension": ".py",
   "mimetype": "text/x-python",
   "name": "python",
   "nbconvert_exporter": "python",
   "pygments_lexer": "ipython3",
   "version": "3.11.5"
  }
 },
 "nbformat": 4,
 "nbformat_minor": 4
}
